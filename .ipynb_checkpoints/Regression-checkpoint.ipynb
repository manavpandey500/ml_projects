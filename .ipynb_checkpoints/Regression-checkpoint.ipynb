{
 "cells": [
  {
   "cell_type": "code",
   "execution_count": 1,
   "metadata": {
    "colab": {
     "base_uri": "https://localhost:8080/",
     "height": 284
    },
    "executionInfo": {
     "elapsed": 1321,
     "status": "ok",
     "timestamp": 1607933769182,
     "user": {
      "displayName": "Harpreet Singh Sachdev",
      "photoUrl": "https://lh3.googleusercontent.com/a-/AOh14Gj5NeI_fBn0wsbx5KUdxizOF794sYC3Ve9k_xyEJSPlGp-Bk2ktEV-QYwQiBXINCjbZdBI9C6lsMUpLaCtUMwZSBA2-5F_3v4W-7nEmKrc0dgTcOcSh0sBYYx1e2BbnUT6HZjWY0H_yTnKPiytVWALCqwP5rmJt6h-Dhvg6T6OnKjHU4KcPcnfPnSnFJZhxV7U3OKAZYnD_A2KMwxyi7zVq4D2EdWD2QJO1Wfe0U4_6mefaqJ5bk81MbLA5BiGMVz2c8IL_voa05aGmpLxIXPSLxkjjcsTiMELQ6jwvt8nZFAOpEJDsucSZ7kajpXUKTaj7aAw_Cz_p1BAs70LOPoYeK6k8mO1fp2u2pjcWlguf1CC61uTxoQOmgQxFLqKn_PWgzZ2wkMgFXDSCofn3y4EaopNm1FDQ3iQqHyXhR2m5ZnbsNpCO7wQO7AU2M5Ug9n6Uz6tL2AYEKPW-yF8AOYQs-KWJr_gLnkG1ZeMj-FP3_oKu7iE9pt87WL3DfVRBuDi46WtufqVkFQPJ0plyn2TNwD5sqB8PNL0g8kmI986BU0Hg9SOkMNNKQBeoRNlCI1JYfWuf8G6bqq7qoUQva2kSzor-h6r-yaP-_rJNu__z1PXUgQcBvTY04I54lGpd5bVTddZa1UccLu_MfityDkKTwVr3J6oP6Vkkk0Yq8mmQTqfGA5N8HfYg2oXJjW8rqBrTxtH7uJc5rR2SxHbRrrhBWFVTBvMM9UVjyyukGsmkMUyE_B1QLjqV0QEJuIRG6SNGKA=s64",
      "userId": "08194772631130095241"
     },
     "user_tz": -330
    },
    "id": "xW8ZvQJwLC1Y",
    "outputId": "ed564577-153c-494f-b851-e690c0c8a9d3"
   },
   "outputs": [
    {
     "data": {
      "text/html": [
       "<div>\n",
       "<style scoped>\n",
       "    .dataframe tbody tr th:only-of-type {\n",
       "        vertical-align: middle;\n",
       "    }\n",
       "\n",
       "    .dataframe tbody tr th {\n",
       "        vertical-align: top;\n",
       "    }\n",
       "\n",
       "    .dataframe thead th {\n",
       "        text-align: right;\n",
       "    }\n",
       "</style>\n",
       "<table border=\"1\" class=\"dataframe\">\n",
       "  <thead>\n",
       "    <tr style=\"text-align: right;\">\n",
       "      <th></th>\n",
       "      <th>Unnamed: 0</th>\n",
       "      <th>Age</th>\n",
       "      <th>Sex</th>\n",
       "      <th>BMI</th>\n",
       "      <th>Children</th>\n",
       "      <th>smoker</th>\n",
       "      <th>Region</th>\n",
       "      <th>Expenses</th>\n",
       "    </tr>\n",
       "  </thead>\n",
       "  <tbody>\n",
       "    <tr>\n",
       "      <td>0</td>\n",
       "      <td>0</td>\n",
       "      <td>19</td>\n",
       "      <td>female</td>\n",
       "      <td>27.9</td>\n",
       "      <td>0</td>\n",
       "      <td>yes</td>\n",
       "      <td>southwest</td>\n",
       "      <td>88.555</td>\n",
       "    </tr>\n",
       "    <tr>\n",
       "      <td>1</td>\n",
       "      <td>1</td>\n",
       "      <td>18</td>\n",
       "      <td>male</td>\n",
       "      <td>33.8</td>\n",
       "      <td>1</td>\n",
       "      <td>no</td>\n",
       "      <td>southeast</td>\n",
       "      <td>113.410</td>\n",
       "    </tr>\n",
       "    <tr>\n",
       "      <td>2</td>\n",
       "      <td>2</td>\n",
       "      <td>28</td>\n",
       "      <td>male</td>\n",
       "      <td>33.0</td>\n",
       "      <td>3</td>\n",
       "      <td>no</td>\n",
       "      <td>southeast</td>\n",
       "      <td>126.310</td>\n",
       "    </tr>\n",
       "    <tr>\n",
       "      <td>3</td>\n",
       "      <td>3</td>\n",
       "      <td>33</td>\n",
       "      <td>male</td>\n",
       "      <td>22.7</td>\n",
       "      <td>0</td>\n",
       "      <td>no</td>\n",
       "      <td>northwest</td>\n",
       "      <td>86.235</td>\n",
       "    </tr>\n",
       "    <tr>\n",
       "      <td>4</td>\n",
       "      <td>4</td>\n",
       "      <td>32</td>\n",
       "      <td>male</td>\n",
       "      <td>28.9</td>\n",
       "      <td>0</td>\n",
       "      <td>no</td>\n",
       "      <td>northwest</td>\n",
       "      <td>102.715</td>\n",
       "    </tr>\n",
       "    <tr>\n",
       "      <td>5</td>\n",
       "      <td>5</td>\n",
       "      <td>31</td>\n",
       "      <td>female</td>\n",
       "      <td>25.7</td>\n",
       "      <td>0</td>\n",
       "      <td>no</td>\n",
       "      <td>southeast</td>\n",
       "      <td>96.345</td>\n",
       "    </tr>\n",
       "    <tr>\n",
       "      <td>6</td>\n",
       "      <td>6</td>\n",
       "      <td>46</td>\n",
       "      <td>female</td>\n",
       "      <td>33.4</td>\n",
       "      <td>1</td>\n",
       "      <td>no</td>\n",
       "      <td>southeast</td>\n",
       "      <td>124.270</td>\n",
       "    </tr>\n",
       "    <tr>\n",
       "      <td>7</td>\n",
       "      <td>7</td>\n",
       "      <td>37</td>\n",
       "      <td>female</td>\n",
       "      <td>27.7</td>\n",
       "      <td>3</td>\n",
       "      <td>no</td>\n",
       "      <td>northwest</td>\n",
       "      <td>113.865</td>\n",
       "    </tr>\n",
       "    <tr>\n",
       "      <td>8</td>\n",
       "      <td>8</td>\n",
       "      <td>37</td>\n",
       "      <td>male</td>\n",
       "      <td>29.8</td>\n",
       "      <td>2</td>\n",
       "      <td>no</td>\n",
       "      <td>northeast</td>\n",
       "      <td>110.440</td>\n",
       "    </tr>\n",
       "    <tr>\n",
       "      <td>9</td>\n",
       "      <td>9</td>\n",
       "      <td>60</td>\n",
       "      <td>female</td>\n",
       "      <td>25.8</td>\n",
       "      <td>0</td>\n",
       "      <td>no</td>\n",
       "      <td>northwest</td>\n",
       "      <td>108.150</td>\n",
       "    </tr>\n",
       "  </tbody>\n",
       "</table>\n",
       "</div>"
      ],
      "text/plain": [
       "   Unnamed: 0  Age     Sex   BMI  Children smoker     Region  Expenses\n",
       "0           0   19  female  27.9         0    yes  southwest    88.555\n",
       "1           1   18    male  33.8         1     no  southeast   113.410\n",
       "2           2   28    male  33.0         3     no  southeast   126.310\n",
       "3           3   33    male  22.7         0     no  northwest    86.235\n",
       "4           4   32    male  28.9         0     no  northwest   102.715\n",
       "5           5   31  female  25.7         0     no  southeast    96.345\n",
       "6           6   46  female  33.4         1     no  southeast   124.270\n",
       "7           7   37  female  27.7         3     no  northwest   113.865\n",
       "8           8   37    male  29.8         2     no  northeast   110.440\n",
       "9           9   60  female  25.8         0     no  northwest   108.150"
      ]
     },
     "execution_count": 1,
     "metadata": {},
     "output_type": "execute_result"
    }
   ],
   "source": [
    "import pandas as pd\n",
    "\n",
    "data = pd.read_excel('https://d24c4belkzmc2t.cloudfront.net/cdn-uploads/1593542958_Insurance.xlsx')\n",
    "data.head(10)"
   ]
  },
  {
   "cell_type": "code",
   "execution_count": 2,
   "metadata": {
    "colab": {
     "base_uri": "https://localhost:8080/",
     "height": 265
    },
    "executionInfo": {
     "elapsed": 1960,
     "status": "ok",
     "timestamp": 1607933770013,
     "user": {
      "displayName": "Harpreet Singh Sachdev",
      "photoUrl": "https://lh3.googleusercontent.com/a-/AOh14Gj5NeI_fBn0wsbx5KUdxizOF794sYC3Ve9k_xyEJSPlGp-Bk2ktEV-QYwQiBXINCjbZdBI9C6lsMUpLaCtUMwZSBA2-5F_3v4W-7nEmKrc0dgTcOcSh0sBYYx1e2BbnUT6HZjWY0H_yTnKPiytVWALCqwP5rmJt6h-Dhvg6T6OnKjHU4KcPcnfPnSnFJZhxV7U3OKAZYnD_A2KMwxyi7zVq4D2EdWD2QJO1Wfe0U4_6mefaqJ5bk81MbLA5BiGMVz2c8IL_voa05aGmpLxIXPSLxkjjcsTiMELQ6jwvt8nZFAOpEJDsucSZ7kajpXUKTaj7aAw_Cz_p1BAs70LOPoYeK6k8mO1fp2u2pjcWlguf1CC61uTxoQOmgQxFLqKn_PWgzZ2wkMgFXDSCofn3y4EaopNm1FDQ3iQqHyXhR2m5ZnbsNpCO7wQO7AU2M5Ug9n6Uz6tL2AYEKPW-yF8AOYQs-KWJr_gLnkG1ZeMj-FP3_oKu7iE9pt87WL3DfVRBuDi46WtufqVkFQPJ0plyn2TNwD5sqB8PNL0g8kmI986BU0Hg9SOkMNNKQBeoRNlCI1JYfWuf8G6bqq7qoUQva2kSzor-h6r-yaP-_rJNu__z1PXUgQcBvTY04I54lGpd5bVTddZa1UccLu_MfityDkKTwVr3J6oP6Vkkk0Yq8mmQTqfGA5N8HfYg2oXJjW8rqBrTxtH7uJc5rR2SxHbRrrhBWFVTBvMM9UVjyyukGsmkMUyE_B1QLjqV0QEJuIRG6SNGKA=s64",
      "userId": "08194772631130095241"
     },
     "user_tz": -330
    },
    "id": "1LqbSTeXL2XD",
    "outputId": "fb6e192a-3731-470c-fda5-b795e01d0365"
   },
   "outputs": [
    {
     "data": {
      "text/plain": [
       "<Figure size 640x480 with 1 Axes>"
      ]
     },
     "metadata": {},
     "output_type": "display_data"
    }
   ],
   "source": [
    "# Visualizing Linear Relationship\n",
    "\n",
    "X = [-2, -1, 0, 1, 2, 3]\n",
    "Y = [-3, -1, 1, 3, 5, 7]\n",
    "\n",
    "import matplotlib.pyplot as plt\n",
    "\n",
    "plt.scatter(X, Y)\n",
    "plt.show()"
   ]
  },
  {
   "cell_type": "code",
   "execution_count": 3,
   "metadata": {
    "colab": {
     "base_uri": "https://localhost:8080/",
     "height": 265
    },
    "executionInfo": {
     "elapsed": 1834,
     "status": "ok",
     "timestamp": 1607933770014,
     "user": {
      "displayName": "Harpreet Singh Sachdev",
      "photoUrl": "https://lh3.googleusercontent.com/a-/AOh14Gj5NeI_fBn0wsbx5KUdxizOF794sYC3Ve9k_xyEJSPlGp-Bk2ktEV-QYwQiBXINCjbZdBI9C6lsMUpLaCtUMwZSBA2-5F_3v4W-7nEmKrc0dgTcOcSh0sBYYx1e2BbnUT6HZjWY0H_yTnKPiytVWALCqwP5rmJt6h-Dhvg6T6OnKjHU4KcPcnfPnSnFJZhxV7U3OKAZYnD_A2KMwxyi7zVq4D2EdWD2QJO1Wfe0U4_6mefaqJ5bk81MbLA5BiGMVz2c8IL_voa05aGmpLxIXPSLxkjjcsTiMELQ6jwvt8nZFAOpEJDsucSZ7kajpXUKTaj7aAw_Cz_p1BAs70LOPoYeK6k8mO1fp2u2pjcWlguf1CC61uTxoQOmgQxFLqKn_PWgzZ2wkMgFXDSCofn3y4EaopNm1FDQ3iQqHyXhR2m5ZnbsNpCO7wQO7AU2M5Ug9n6Uz6tL2AYEKPW-yF8AOYQs-KWJr_gLnkG1ZeMj-FP3_oKu7iE9pt87WL3DfVRBuDi46WtufqVkFQPJ0plyn2TNwD5sqB8PNL0g8kmI986BU0Hg9SOkMNNKQBeoRNlCI1JYfWuf8G6bqq7qoUQva2kSzor-h6r-yaP-_rJNu__z1PXUgQcBvTY04I54lGpd5bVTddZa1UccLu_MfityDkKTwVr3J6oP6Vkkk0Yq8mmQTqfGA5N8HfYg2oXJjW8rqBrTxtH7uJc5rR2SxHbRrrhBWFVTBvMM9UVjyyukGsmkMUyE_B1QLjqV0QEJuIRG6SNGKA=s64",
      "userId": "08194772631130095241"
     },
     "user_tz": -330
    },
    "id": "985o5zQWL2aI",
    "outputId": "917da085-8f49-429a-b25d-0c307b378519"
   },
   "outputs": [
    {
     "data": {
      "image/png": "[encoded data removed]",
      "text/plain": [
       "<Figure size 432x288 with 1 Axes>"
      ]
     },
     "metadata": {
      "needs_background": "light"
     },
     "output_type": "display_data"
    }
   ],
   "source": [
    "# Visualizing Non linear Relationship\n",
    "\n",
    "import numpy as np\n",
    "\n",
    "X = np.array([-3, -2, -1, 0, 1, 2, 3])\n",
    "Y = X ** 2\n",
    "\n",
    "import matplotlib.pyplot as plt\n",
    "\n",
    "plt.plot(X, Y, 'r+-')\n",
    "plt.show()"
   ]
  },
  {
   "cell_type": "markdown",
   "metadata": {
    "colab": {
     "base_uri": "https://localhost:8080/",
     "height": 52
    },
    "executionInfo": {
     "elapsed": 1667,
     "status": "ok",
     "timestamp": 1607933770015,
     "user": {
      "displayName": "Harpreet Singh Sachdev",
      "photoUrl": "https://lh3.googleusercontent.com/a-/AOh14Gj5NeI_fBn0wsbx5KUdxizOF794sYC3Ve9k_xyEJSPlGp-Bk2ktEV-QYwQiBXINCjbZdBI9C6lsMUpLaCtUMwZSBA2-5F_3v4W-7nEmKrc0dgTcOcSh0sBYYx1e2BbnUT6HZjWY0H_yTnKPiytVWALCqwP5rmJt6h-Dhvg6T6OnKjHU4KcPcnfPnSnFJZhxV7U3OKAZYnD_A2KMwxyi7zVq4D2EdWD2QJO1Wfe0U4_6mefaqJ5bk81MbLA5BiGMVz2c8IL_voa05aGmpLxIXPSLxkjjcsTiMELQ6jwvt8nZFAOpEJDsucSZ7kajpXUKTaj7aAw_Cz_p1BAs70LOPoYeK6k8mO1fp2u2pjcWlguf1CC61uTxoQOmgQxFLqKn_PWgzZ2wkMgFXDSCofn3y4EaopNm1FDQ3iQqHyXhR2m5ZnbsNpCO7wQO7AU2M5Ug9n6Uz6tL2AYEKPW-yF8AOYQs-KWJr_gLnkG1ZeMj-FP3_oKu7iE9pt87WL3DfVRBuDi46WtufqVkFQPJ0plyn2TNwD5sqB8PNL0g8kmI986BU0Hg9SOkMNNKQBeoRNlCI1JYfWuf8G6bqq7qoUQva2kSzor-h6r-yaP-_rJNu__z1PXUgQcBvTY04I54lGpd5bVTddZa1UccLu_MfityDkKTwVr3J6oP6Vkkk0Yq8mmQTqfGA5N8HfYg2oXJjW8rqBrTxtH7uJc5rR2SxHbRrrhBWFVTBvMM9UVjyyukGsmkMUyE_B1QLjqV0QEJuIRG6SNGKA=s64",
      "userId": "08194772631130095241"
     },
     "user_tz": -330
    },
    "id": "sZNRnc8nMlpX",
    "outputId": "eff5a7c4-08d7-4958-8015-0dcf1c4a756a"
   },
   "source": [
    "<font size = 3.5px>\n",
    "    \n",
    "Variable which needs to be predicted is called Dependent Variable / Target Variable/ Response Variable \"EXPENSES\" <br>\n",
    "Variable on which dependent variable depends is called Independent Variable / Exploratory Variable \"AGE\"\n",
    "\n",
    "</font>"
   ]
  },
  {
   "cell_type": "code",
   "execution_count": 4,
   "metadata": {
    "colab": {
     "base_uri": "https://localhost:8080/",
     "height": 198
    },
    "executionInfo": {
     "elapsed": 1871,
     "status": "ok",
     "timestamp": 1607933772263,
     "user": {
      "displayName": "Harpreet Singh Sachdev",
      "photoUrl": "https://lh3.googleusercontent.com/a-/AOh14Gj5NeI_fBn0wsbx5KUdxizOF794sYC3Ve9k_xyEJSPlGp-Bk2ktEV-QYwQiBXINCjbZdBI9C6lsMUpLaCtUMwZSBA2-5F_3v4W-7nEmKrc0dgTcOcSh0sBYYx1e2BbnUT6HZjWY0H_yTnKPiytVWALCqwP5rmJt6h-Dhvg6T6OnKjHU4KcPcnfPnSnFJZhxV7U3OKAZYnD_A2KMwxyi7zVq4D2EdWD2QJO1Wfe0U4_6mefaqJ5bk81MbLA5BiGMVz2c8IL_voa05aGmpLxIXPSLxkjjcsTiMELQ6jwvt8nZFAOpEJDsucSZ7kajpXUKTaj7aAw_Cz_p1BAs70LOPoYeK6k8mO1fp2u2pjcWlguf1CC61uTxoQOmgQxFLqKn_PWgzZ2wkMgFXDSCofn3y4EaopNm1FDQ3iQqHyXhR2m5ZnbsNpCO7wQO7AU2M5Ug9n6Uz6tL2AYEKPW-yF8AOYQs-KWJr_gLnkG1ZeMj-FP3_oKu7iE9pt87WL3DfVRBuDi46WtufqVkFQPJ0plyn2TNwD5sqB8PNL0g8kmI986BU0Hg9SOkMNNKQBeoRNlCI1JYfWuf8G6bqq7qoUQva2kSzor-h6r-yaP-_rJNu__z1PXUgQcBvTY04I54lGpd5bVTddZa1UccLu_MfityDkKTwVr3J6oP6Vkkk0Yq8mmQTqfGA5N8HfYg2oXJjW8rqBrTxtH7uJc5rR2SxHbRrrhBWFVTBvMM9UVjyyukGsmkMUyE_B1QLjqV0QEJuIRG6SNGKA=s64",
      "userId": "08194772631130095241"
     },
     "user_tz": -330
    },
    "id": "m05INW-hPfwn",
    "outputId": "b000f5b9-d5be-4f35-b5f2-6bce2c95bb34"
   },
   "outputs": [
    {
     "data": {
      "text/html": [
       "<div>\n",
       "<style scoped>\n",
       "    .dataframe tbody tr th:only-of-type {\n",
       "        vertical-align: middle;\n",
       "    }\n",
       "\n",
       "    .dataframe tbody tr th {\n",
       "        vertical-align: top;\n",
       "    }\n",
       "\n",
       "    .dataframe thead th {\n",
       "        text-align: right;\n",
       "    }\n",
       "</style>\n",
       "<table border=\"1\" class=\"dataframe\">\n",
       "  <thead>\n",
       "    <tr style=\"text-align: right;\">\n",
       "      <th></th>\n",
       "      <th>Unnamed: 0</th>\n",
       "      <th>Age</th>\n",
       "      <th>Sex</th>\n",
       "      <th>BMI</th>\n",
       "      <th>Children</th>\n",
       "      <th>smoker</th>\n",
       "      <th>Region</th>\n",
       "      <th>Expenses</th>\n",
       "    </tr>\n",
       "  </thead>\n",
       "  <tbody>\n",
       "    <tr>\n",
       "      <td>0</td>\n",
       "      <td>0</td>\n",
       "      <td>19</td>\n",
       "      <td>female</td>\n",
       "      <td>27.9</td>\n",
       "      <td>0</td>\n",
       "      <td>yes</td>\n",
       "      <td>southwest</td>\n",
       "      <td>88.555</td>\n",
       "    </tr>\n",
       "    <tr>\n",
       "      <td>1</td>\n",
       "      <td>1</td>\n",
       "      <td>18</td>\n",
       "      <td>male</td>\n",
       "      <td>33.8</td>\n",
       "      <td>1</td>\n",
       "      <td>no</td>\n",
       "      <td>southeast</td>\n",
       "      <td>113.410</td>\n",
       "    </tr>\n",
       "    <tr>\n",
       "      <td>2</td>\n",
       "      <td>2</td>\n",
       "      <td>28</td>\n",
       "      <td>male</td>\n",
       "      <td>33.0</td>\n",
       "      <td>3</td>\n",
       "      <td>no</td>\n",
       "      <td>southeast</td>\n",
       "      <td>126.310</td>\n",
       "    </tr>\n",
       "    <tr>\n",
       "      <td>3</td>\n",
       "      <td>3</td>\n",
       "      <td>33</td>\n",
       "      <td>male</td>\n",
       "      <td>22.7</td>\n",
       "      <td>0</td>\n",
       "      <td>no</td>\n",
       "      <td>northwest</td>\n",
       "      <td>86.235</td>\n",
       "    </tr>\n",
       "    <tr>\n",
       "      <td>4</td>\n",
       "      <td>4</td>\n",
       "      <td>32</td>\n",
       "      <td>male</td>\n",
       "      <td>28.9</td>\n",
       "      <td>0</td>\n",
       "      <td>no</td>\n",
       "      <td>northwest</td>\n",
       "      <td>102.715</td>\n",
       "    </tr>\n",
       "  </tbody>\n",
       "</table>\n",
       "</div>"
      ],
      "text/plain": [
       "   Unnamed: 0  Age     Sex   BMI  Children smoker     Region  Expenses\n",
       "0           0   19  female  27.9         0    yes  southwest    88.555\n",
       "1           1   18    male  33.8         1     no  southeast   113.410\n",
       "2           2   28    male  33.0         3     no  southeast   126.310\n",
       "3           3   33    male  22.7         0     no  northwest    86.235\n",
       "4           4   32    male  28.9         0     no  northwest   102.715"
      ]
     },
     "execution_count": 4,
     "metadata": {},
     "output_type": "execute_result"
    }
   ],
   "source": [
    "data.head()"
   ]
  },
  {
   "cell_type": "code",
   "execution_count": 5,
   "metadata": {
    "colab": {
     "base_uri": "https://localhost:8080/",
     "height": 595
    },
    "executionInfo": {
     "elapsed": 1532,
     "status": "error",
     "timestamp": 1607933772268,
     "user": {
      "displayName": "Harpreet Singh Sachdev",
      "photoUrl": "https://lh3.googleusercontent.com/a-/AOh14Gj5NeI_fBn0wsbx5KUdxizOF794sYC3Ve9k_xyEJSPlGp-Bk2ktEV-QYwQiBXINCjbZdBI9C6lsMUpLaCtUMwZSBA2-5F_3v4W-7nEmKrc0dgTcOcSh0sBYYx1e2BbnUT6HZjWY0H_yTnKPiytVWALCqwP5rmJt6h-Dhvg6T6OnKjHU4KcPcnfPnSnFJZhxV7U3OKAZYnD_A2KMwxyi7zVq4D2EdWD2QJO1Wfe0U4_6mefaqJ5bk81MbLA5BiGMVz2c8IL_voa05aGmpLxIXPSLxkjjcsTiMELQ6jwvt8nZFAOpEJDsucSZ7kajpXUKTaj7aAw_Cz_p1BAs70LOPoYeK6k8mO1fp2u2pjcWlguf1CC61uTxoQOmgQxFLqKn_PWgzZ2wkMgFXDSCofn3y4EaopNm1FDQ3iQqHyXhR2m5ZnbsNpCO7wQO7AU2M5Ug9n6Uz6tL2AYEKPW-yF8AOYQs-KWJr_gLnkG1ZeMj-FP3_oKu7iE9pt87WL3DfVRBuDi46WtufqVkFQPJ0plyn2TNwD5sqB8PNL0g8kmI986BU0Hg9SOkMNNKQBeoRNlCI1JYfWuf8G6bqq7qoUQva2kSzor-h6r-yaP-_rJNu__z1PXUgQcBvTY04I54lGpd5bVTddZa1UccLu_MfityDkKTwVr3J6oP6Vkkk0Yq8mmQTqfGA5N8HfYg2oXJjW8rqBrTxtH7uJc5rR2SxHbRrrhBWFVTBvMM9UVjyyukGsmkMUyE_B1QLjqV0QEJuIRG6SNGKA=s64",
      "userId": "08194772631130095241"
     },
     "user_tz": -330
    },
    "id": "lP2A5jhDQJnP",
    "outputId": "53b58e80-90cc-4a96-9cf0-103d7ecba861"
   },
   "outputs": [
    {
     "data": {
      "image/png": "[encoded data removed]",
      "text/plain": [
       "<Figure size 432x288 with 1 Axes>"
      ]
     },
     "metadata": {
      "needs_background": "light"
     },
     "output_type": "display_data"
    }
   ],
   "source": [
    "plt.scatter(data['smoker'], data['Expenses'])\n",
    "plt.show()"
   ]
  },
  {
   "cell_type": "markdown",
   "metadata": {},
   "source": [
    "### Replacing column with their numerical values"
   ]
  },
  {
   "cell_type": "code",
   "execution_count": 6,
   "metadata": {
    "executionInfo": {
     "elapsed": 1707,
     "status": "ok",
     "timestamp": 1607933772268,
     "user": {
      "displayName": "Harpreet Singh Sachdev",
      "photoUrl": "https://lh3.googleusercontent.com/a-/AOh14Gj5NeI_fBn0wsbx5KUdxizOF794sYC3Ve9k_xyEJSPlGp-Bk2ktEV-QYwQiBXINCjbZdBI9C6lsMUpLaCtUMwZSBA2-5F_3v4W-7nEmKrc0dgTcOcSh0sBYYx1e2BbnUT6HZjWY0H_yTnKPiytVWALCqwP5rmJt6h-Dhvg6T6OnKjHU4KcPcnfPnSnFJZhxV7U3OKAZYnD_A2KMwxyi7zVq4D2EdWD2QJO1Wfe0U4_6mefaqJ5bk81MbLA5BiGMVz2c8IL_voa05aGmpLxIXPSLxkjjcsTiMELQ6jwvt8nZFAOpEJDsucSZ7kajpXUKTaj7aAw_Cz_p1BAs70LOPoYeK6k8mO1fp2u2pjcWlguf1CC61uTxoQOmgQxFLqKn_PWgzZ2wkMgFXDSCofn3y4EaopNm1FDQ3iQqHyXhR2m5ZnbsNpCO7wQO7AU2M5Ug9n6Uz6tL2AYEKPW-yF8AOYQs-KWJr_gLnkG1ZeMj-FP3_oKu7iE9pt87WL3DfVRBuDi46WtufqVkFQPJ0plyn2TNwD5sqB8PNL0g8kmI986BU0Hg9SOkMNNKQBeoRNlCI1JYfWuf8G6bqq7qoUQva2kSzor-h6r-yaP-_rJNu__z1PXUgQcBvTY04I54lGpd5bVTddZa1UccLu_MfityDkKTwVr3J6oP6Vkkk0Yq8mmQTqfGA5N8HfYg2oXJjW8rqBrTxtH7uJc5rR2SxHbRrrhBWFVTBvMM9UVjyyukGsmkMUyE_B1QLjqV0QEJuIRG6SNGKA=s64",
      "userId": "08194772631130095241"
     },
     "user_tz": -330
    },
    "id": "3pGoerhdPq8U"
   },
   "outputs": [],
   "source": [
    "data['Gender'] = data['Sex'].map({'female' : 1, 'male' : 0})"
   ]
  },
  {
   "cell_type": "code",
   "execution_count": 7,
   "metadata": {
    "executionInfo": {
     "elapsed": 1372,
     "status": "ok",
     "timestamp": 1607933772270,
     "user": {
      "displayName": "Harpreet Singh Sachdev",
      "photoUrl": "https://lh3.googleusercontent.com/a-/AOh14Gj5NeI_fBn0wsbx5KUdxizOF794sYC3Ve9k_xyEJSPlGp-Bk2ktEV-QYwQiBXINCjbZdBI9C6lsMUpLaCtUMwZSBA2-5F_3v4W-7nEmKrc0dgTcOcSh0sBYYx1e2BbnUT6HZjWY0H_yTnKPiytVWALCqwP5rmJt6h-Dhvg6T6OnKjHU4KcPcnfPnSnFJZhxV7U3OKAZYnD_A2KMwxyi7zVq4D2EdWD2QJO1Wfe0U4_6mefaqJ5bk81MbLA5BiGMVz2c8IL_voa05aGmpLxIXPSLxkjjcsTiMELQ6jwvt8nZFAOpEJDsucSZ7kajpXUKTaj7aAw_Cz_p1BAs70LOPoYeK6k8mO1fp2u2pjcWlguf1CC61uTxoQOmgQxFLqKn_PWgzZ2wkMgFXDSCofn3y4EaopNm1FDQ3iQqHyXhR2m5ZnbsNpCO7wQO7AU2M5Ug9n6Uz6tL2AYEKPW-yF8AOYQs-KWJr_gLnkG1ZeMj-FP3_oKu7iE9pt87WL3DfVRBuDi46WtufqVkFQPJ0plyn2TNwD5sqB8PNL0g8kmI986BU0Hg9SOkMNNKQBeoRNlCI1JYfWuf8G6bqq7qoUQva2kSzor-h6r-yaP-_rJNu__z1PXUgQcBvTY04I54lGpd5bVTddZa1UccLu_MfityDkKTwVr3J6oP6Vkkk0Yq8mmQTqfGA5N8HfYg2oXJjW8rqBrTxtH7uJc5rR2SxHbRrrhBWFVTBvMM9UVjyyukGsmkMUyE_B1QLjqV0QEJuIRG6SNGKA=s64",
      "userId": "08194772631130095241"
     },
     "user_tz": -330
    },
    "id": "pcYkOg4kP2RF"
   },
   "outputs": [],
   "source": [
    "data['smoke'] = data['smoker'].map({'yes' : 1, 'no' : 0})"
   ]
  },
  {
   "cell_type": "markdown",
   "metadata": {},
   "source": [
    "### Checking the correlation among data"
   ]
  },
  {
   "cell_type": "code",
   "execution_count": 8,
   "metadata": {
    "colab": {
     "base_uri": "https://localhost:8080/"
    },
    "executionInfo": {
     "elapsed": 1040,
     "status": "ok",
     "timestamp": 1607933772271,
     "user": {
      "displayName": "Harpreet Singh Sachdev",
      "photoUrl": "https://lh3.googleusercontent.com/a-/AOh14Gj5NeI_fBn0wsbx5KUdxizOF794sYC3Ve9k_xyEJSPlGp-Bk2ktEV-QYwQiBXINCjbZdBI9C6lsMUpLaCtUMwZSBA2-5F_3v4W-7nEmKrc0dgTcOcSh0sBYYx1e2BbnUT6HZjWY0H_yTnKPiytVWALCqwP5rmJt6h-Dhvg6T6OnKjHU4KcPcnfPnSnFJZhxV7U3OKAZYnD_A2KMwxyi7zVq4D2EdWD2QJO1Wfe0U4_6mefaqJ5bk81MbLA5BiGMVz2c8IL_voa05aGmpLxIXPSLxkjjcsTiMELQ6jwvt8nZFAOpEJDsucSZ7kajpXUKTaj7aAw_Cz_p1BAs70LOPoYeK6k8mO1fp2u2pjcWlguf1CC61uTxoQOmgQxFLqKn_PWgzZ2wkMgFXDSCofn3y4EaopNm1FDQ3iQqHyXhR2m5ZnbsNpCO7wQO7AU2M5Ug9n6Uz6tL2AYEKPW-yF8AOYQs-KWJr_gLnkG1ZeMj-FP3_oKu7iE9pt87WL3DfVRBuDi46WtufqVkFQPJ0plyn2TNwD5sqB8PNL0g8kmI986BU0Hg9SOkMNNKQBeoRNlCI1JYfWuf8G6bqq7qoUQva2kSzor-h6r-yaP-_rJNu__z1PXUgQcBvTY04I54lGpd5bVTddZa1UccLu_MfityDkKTwVr3J6oP6Vkkk0Yq8mmQTqfGA5N8HfYg2oXJjW8rqBrTxtH7uJc5rR2SxHbRrrhBWFVTBvMM9UVjyyukGsmkMUyE_B1QLjqV0QEJuIRG6SNGKA=s64",
      "userId": "08194772631130095241"
     },
     "user_tz": -330
    },
    "id": "a4795k5-PgEu",
    "outputId": "7772664c-a818-4025-9133-1f91fb04e430"
   },
   "outputs": [
    {
     "data": {
      "text/plain": [
       "Unnamed: 0   -0.041823\n",
       "Age           0.505921\n",
       "BMI           0.879601\n",
       "Children      0.218761\n",
       "Expenses      1.000000\n",
       "Gender       -0.035771\n",
       "smoke        -0.011772\n",
       "Name: Expenses, dtype: float64"
      ]
     },
     "execution_count": 8,
     "metadata": {},
     "output_type": "execute_result"
    }
   ],
   "source": [
    "data.corr().loc['Expenses']"
   ]
  },
  {
   "cell_type": "markdown",
   "metadata": {
    "executionInfo": {
     "elapsed": 1161,
     "status": "ok",
     "timestamp": 1607933772629,
     "user": {
      "displayName": "Harpreet Singh Sachdev",
      "photoUrl": "https://lh3.googleusercontent.com/a-/AOh14Gj5NeI_fBn0wsbx5KUdxizOF794sYC3Ve9k_xyEJSPlGp-Bk2ktEV-QYwQiBXINCjbZdBI9C6lsMUpLaCtUMwZSBA2-5F_3v4W-7nEmKrc0dgTcOcSh0sBYYx1e2BbnUT6HZjWY0H_yTnKPiytVWALCqwP5rmJt6h-Dhvg6T6OnKjHU4KcPcnfPnSnFJZhxV7U3OKAZYnD_A2KMwxyi7zVq4D2EdWD2QJO1Wfe0U4_6mefaqJ5bk81MbLA5BiGMVz2c8IL_voa05aGmpLxIXPSLxkjjcsTiMELQ6jwvt8nZFAOpEJDsucSZ7kajpXUKTaj7aAw_Cz_p1BAs70LOPoYeK6k8mO1fp2u2pjcWlguf1CC61uTxoQOmgQxFLqKn_PWgzZ2wkMgFXDSCofn3y4EaopNm1FDQ3iQqHyXhR2m5ZnbsNpCO7wQO7AU2M5Ug9n6Uz6tL2AYEKPW-yF8AOYQs-KWJr_gLnkG1ZeMj-FP3_oKu7iE9pt87WL3DfVRBuDi46WtufqVkFQPJ0plyn2TNwD5sqB8PNL0g8kmI986BU0Hg9SOkMNNKQBeoRNlCI1JYfWuf8G6bqq7qoUQva2kSzor-h6r-yaP-_rJNu__z1PXUgQcBvTY04I54lGpd5bVTddZa1UccLu_MfityDkKTwVr3J6oP6Vkkk0Yq8mmQTqfGA5N8HfYg2oXJjW8rqBrTxtH7uJc5rR2SxHbRrrhBWFVTBvMM9UVjyyukGsmkMUyE_B1QLjqV0QEJuIRG6SNGKA=s64",
      "userId": "08194772631130095241"
     },
     "user_tz": -330
    },
    "id": "SvFJAO3cQyZ5"
   },
   "source": [
    "# For any variable to be correlated correlation should be between\n",
    "# -0.6 to -1 or 0.6 to 1\n",
    "\n",
    "### -0.8 (yes)\n",
    "### -0.2 (no)\n",
    "### 0.2  (no)\n",
    "### 0.8  (yes)\n",
    "### -1   (yes)"
   ]
  },
  {
   "cell_type": "code",
   "execution_count": 9,
   "metadata": {
    "colab": {
     "base_uri": "https://localhost:8080/"
    },
    "executionInfo": {
     "elapsed": 1585,
     "status": "ok",
     "timestamp": 1607933778024,
     "user": {
      "displayName": "Harpreet Singh Sachdev",
      "photoUrl": "https://lh3.googleusercontent.com/a-/AOh14Gj5NeI_fBn0wsbx5KUdxizOF794sYC3Ve9k_xyEJSPlGp-Bk2ktEV-QYwQiBXINCjbZdBI9C6lsMUpLaCtUMwZSBA2-5F_3v4W-7nEmKrc0dgTcOcSh0sBYYx1e2BbnUT6HZjWY0H_yTnKPiytVWALCqwP5rmJt6h-Dhvg6T6OnKjHU4KcPcnfPnSnFJZhxV7U3OKAZYnD_A2KMwxyi7zVq4D2EdWD2QJO1Wfe0U4_6mefaqJ5bk81MbLA5BiGMVz2c8IL_voa05aGmpLxIXPSLxkjjcsTiMELQ6jwvt8nZFAOpEJDsucSZ7kajpXUKTaj7aAw_Cz_p1BAs70LOPoYeK6k8mO1fp2u2pjcWlguf1CC61uTxoQOmgQxFLqKn_PWgzZ2wkMgFXDSCofn3y4EaopNm1FDQ3iQqHyXhR2m5ZnbsNpCO7wQO7AU2M5Ug9n6Uz6tL2AYEKPW-yF8AOYQs-KWJr_gLnkG1ZeMj-FP3_oKu7iE9pt87WL3DfVRBuDi46WtufqVkFQPJ0plyn2TNwD5sqB8PNL0g8kmI986BU0Hg9SOkMNNKQBeoRNlCI1JYfWuf8G6bqq7qoUQva2kSzor-h6r-yaP-_rJNu__z1PXUgQcBvTY04I54lGpd5bVTddZa1UccLu_MfityDkKTwVr3J6oP6Vkkk0Yq8mmQTqfGA5N8HfYg2oXJjW8rqBrTxtH7uJc5rR2SxHbRrrhBWFVTBvMM9UVjyyukGsmkMUyE_B1QLjqV0QEJuIRG6SNGKA=s64",
      "userId": "08194772631130095241"
     },
     "user_tz": -330
    },
    "id": "c-2rkbEF5ulL",
    "outputId": "c3055ff2-9b33-4afb-9184-3e6ef513f3fd"
   },
   "outputs": [
    {
     "data": {
      "text/plain": [
       "Unnamed: 0    0\n",
       "Age           0\n",
       "Sex           0\n",
       "BMI           0\n",
       "Children      0\n",
       "smoker        0\n",
       "Region        0\n",
       "Expenses      0\n",
       "Gender        0\n",
       "smoke         0\n",
       "dtype: int64"
      ]
     },
     "execution_count": 9,
     "metadata": {},
     "output_type": "execute_result"
    }
   ],
   "source": [
    "data.isnull().sum()"
   ]
  },
  {
   "cell_type": "code",
   "execution_count": 10,
   "metadata": {
    "colab": {
     "base_uri": "https://localhost:8080/",
     "height": 296
    },
    "executionInfo": {
     "elapsed": 1434,
     "status": "ok",
     "timestamp": 1607933778025,
     "user": {
      "displayName": "Harpreet Singh Sachdev",
      "photoUrl": "https://lh3.googleusercontent.com/a-/AOh14Gj5NeI_fBn0wsbx5KUdxizOF794sYC3Ve9k_xyEJSPlGp-Bk2ktEV-QYwQiBXINCjbZdBI9C6lsMUpLaCtUMwZSBA2-5F_3v4W-7nEmKrc0dgTcOcSh0sBYYx1e2BbnUT6HZjWY0H_yTnKPiytVWALCqwP5rmJt6h-Dhvg6T6OnKjHU4KcPcnfPnSnFJZhxV7U3OKAZYnD_A2KMwxyi7zVq4D2EdWD2QJO1Wfe0U4_6mefaqJ5bk81MbLA5BiGMVz2c8IL_voa05aGmpLxIXPSLxkjjcsTiMELQ6jwvt8nZFAOpEJDsucSZ7kajpXUKTaj7aAw_Cz_p1BAs70LOPoYeK6k8mO1fp2u2pjcWlguf1CC61uTxoQOmgQxFLqKn_PWgzZ2wkMgFXDSCofn3y4EaopNm1FDQ3iQqHyXhR2m5ZnbsNpCO7wQO7AU2M5Ug9n6Uz6tL2AYEKPW-yF8AOYQs-KWJr_gLnkG1ZeMj-FP3_oKu7iE9pt87WL3DfVRBuDi46WtufqVkFQPJ0plyn2TNwD5sqB8PNL0g8kmI986BU0Hg9SOkMNNKQBeoRNlCI1JYfWuf8G6bqq7qoUQva2kSzor-h6r-yaP-_rJNu__z1PXUgQcBvTY04I54lGpd5bVTddZa1UccLu_MfityDkKTwVr3J6oP6Vkkk0Yq8mmQTqfGA5N8HfYg2oXJjW8rqBrTxtH7uJc5rR2SxHbRrrhBWFVTBvMM9UVjyyukGsmkMUyE_B1QLjqV0QEJuIRG6SNGKA=s64",
      "userId": "08194772631130095241"
     },
     "user_tz": -330
    },
    "id": "ftqWGIC15unk",
    "outputId": "bb7d0e47-51f6-4da1-a132-0882b220618e"
   },
   "outputs": [
    {
     "data": {
      "text/plain": [
       "<matplotlib.axes._subplots.AxesSubplot at 0x21abb204948>"
      ]
     },
     "execution_count": 10,
     "metadata": {},
     "output_type": "execute_result"
    },
    {
     "data": {
      "image/png": "[encoded data removed]",
      "text/plain": [
       "<Figure size 432x288 with 1 Axes>"
      ]
     },
     "metadata": {
      "needs_background": "light"
     },
     "output_type": "display_data"
    }
   ],
   "source": [
    "import seaborn as sns\n",
    "import matplotlib.pyplot as plt\n",
    "\n",
    "sns.kdeplot(data['Expenses'])"
   ]
  },
  {
   "cell_type": "markdown",
   "metadata": {},
   "source": [
    "<font size = 4px> \n",
    "    \n",
    "Line Equation of Regression is <b> y = m * x + c </b>. <br>\n",
    "Here, m is slope which is defined as change in y with respect to change in x <br><br>\n",
    "\n",
    "m = dy / dx  = change in y / change in x\n",
    "\n",
    "and C is defined as intercept where line cuts the Y axis when value of x is 0.<br>\n",
    "Also, to calculate we m we use\n",
    "\n",
    "m = (standard deviation of y / standard deviation of corresponding x[independent variable]) * correlation coefficient      \n",
    "    between y and corresponding x whose standard deviation is taken above\n",
    "    \n",
    "and value of C is\n",
    "\n",
    "C = sum of Y values - m * sum of X values\n",
    "\n",
    "</font>"
   ]
  },
  {
   "cell_type": "code",
   "execution_count": 11,
   "metadata": {
    "colab": {
     "base_uri": "https://localhost:8080/"
    },
    "executionInfo": {
     "elapsed": 1603,
     "status": "ok",
     "timestamp": 1607933779159,
     "user": {
      "displayName": "Harpreet Singh Sachdev",
      "photoUrl": "https://lh3.googleusercontent.com/a-/AOh14Gj5NeI_fBn0wsbx5KUdxizOF794sYC3Ve9k_xyEJSPlGp-Bk2ktEV-QYwQiBXINCjbZdBI9C6lsMUpLaCtUMwZSBA2-5F_3v4W-7nEmKrc0dgTcOcSh0sBYYx1e2BbnUT6HZjWY0H_yTnKPiytVWALCqwP5rmJt6h-Dhvg6T6OnKjHU4KcPcnfPnSnFJZhxV7U3OKAZYnD_A2KMwxyi7zVq4D2EdWD2QJO1Wfe0U4_6mefaqJ5bk81MbLA5BiGMVz2c8IL_voa05aGmpLxIXPSLxkjjcsTiMELQ6jwvt8nZFAOpEJDsucSZ7kajpXUKTaj7aAw_Cz_p1BAs70LOPoYeK6k8mO1fp2u2pjcWlguf1CC61uTxoQOmgQxFLqKn_PWgzZ2wkMgFXDSCofn3y4EaopNm1FDQ3iQqHyXhR2m5ZnbsNpCO7wQO7AU2M5Ug9n6Uz6tL2AYEKPW-yF8AOYQs-KWJr_gLnkG1ZeMj-FP3_oKu7iE9pt87WL3DfVRBuDi46WtufqVkFQPJ0plyn2TNwD5sqB8PNL0g8kmI986BU0Hg9SOkMNNKQBeoRNlCI1JYfWuf8G6bqq7qoUQva2kSzor-h6r-yaP-_rJNu__z1PXUgQcBvTY04I54lGpd5bVTddZa1UccLu_MfityDkKTwVr3J6oP6Vkkk0Yq8mmQTqfGA5N8HfYg2oXJjW8rqBrTxtH7uJc5rR2SxHbRrrhBWFVTBvMM9UVjyyukGsmkMUyE_B1QLjqV0QEJuIRG6SNGKA=s64",
      "userId": "08194772631130095241"
     },
     "user_tz": -330
    },
    "id": "jDGQPiv1W0Mp",
    "outputId": "055a7930-5647-48c5-ea01-53fb24737a58"
   },
   "outputs": [
    {
     "data": {
      "text/html": [
       "<div>\n",
       "<style scoped>\n",
       "    .dataframe tbody tr th:only-of-type {\n",
       "        vertical-align: middle;\n",
       "    }\n",
       "\n",
       "    .dataframe tbody tr th {\n",
       "        vertical-align: top;\n",
       "    }\n",
       "\n",
       "    .dataframe thead th {\n",
       "        text-align: right;\n",
       "    }\n",
       "</style>\n",
       "<table border=\"1\" class=\"dataframe\">\n",
       "  <thead>\n",
       "    <tr style=\"text-align: right;\">\n",
       "      <th></th>\n",
       "      <th>x</th>\n",
       "      <th>y</th>\n",
       "    </tr>\n",
       "  </thead>\n",
       "  <tbody>\n",
       "    <tr>\n",
       "      <td>0</td>\n",
       "      <td>11</td>\n",
       "      <td>3000</td>\n",
       "    </tr>\n",
       "    <tr>\n",
       "      <td>1</td>\n",
       "      <td>20</td>\n",
       "      <td>5000</td>\n",
       "    </tr>\n",
       "    <tr>\n",
       "      <td>2</td>\n",
       "      <td>23</td>\n",
       "      <td>7000</td>\n",
       "    </tr>\n",
       "    <tr>\n",
       "      <td>3</td>\n",
       "      <td>34</td>\n",
       "      <td>10000</td>\n",
       "    </tr>\n",
       "    <tr>\n",
       "      <td>4</td>\n",
       "      <td>45</td>\n",
       "      <td>13000</td>\n",
       "    </tr>\n",
       "  </tbody>\n",
       "</table>\n",
       "</div>"
      ],
      "text/plain": [
       "    x      y\n",
       "0  11   3000\n",
       "1  20   5000\n",
       "2  23   7000\n",
       "3  34  10000\n",
       "4  45  13000"
      ]
     },
     "execution_count": 11,
     "metadata": {},
     "output_type": "execute_result"
    }
   ],
   "source": [
    "x = np.array([11, 20, 23, 34, 45])\n",
    "y = np.array([3000, 5000, 7000, 10000, 13000])\n",
    "\n",
    "temp = pd.DataFrame()\n",
    "temp['x'] = x\n",
    "temp['y'] = y\n",
    "temp"
   ]
  },
  {
   "cell_type": "code",
   "execution_count": 12,
   "metadata": {
    "colab": {
     "base_uri": "https://localhost:8080/"
    },
    "executionInfo": {
     "elapsed": 1405,
     "status": "ok",
     "timestamp": 1607933779160,
     "user": {
      "displayName": "Harpreet Singh Sachdev",
      "photoUrl": "https://lh3.googleusercontent.com/a-/AOh14Gj5NeI_fBn0wsbx5KUdxizOF794sYC3Ve9k_xyEJSPlGp-Bk2ktEV-QYwQiBXINCjbZdBI9C6lsMUpLaCtUMwZSBA2-5F_3v4W-7nEmKrc0dgTcOcSh0sBYYx1e2BbnUT6HZjWY0H_yTnKPiytVWALCqwP5rmJt6h-Dhvg6T6OnKjHU4KcPcnfPnSnFJZhxV7U3OKAZYnD_A2KMwxyi7zVq4D2EdWD2QJO1Wfe0U4_6mefaqJ5bk81MbLA5BiGMVz2c8IL_voa05aGmpLxIXPSLxkjjcsTiMELQ6jwvt8nZFAOpEJDsucSZ7kajpXUKTaj7aAw_Cz_p1BAs70LOPoYeK6k8mO1fp2u2pjcWlguf1CC61uTxoQOmgQxFLqKn_PWgzZ2wkMgFXDSCofn3y4EaopNm1FDQ3iQqHyXhR2m5ZnbsNpCO7wQO7AU2M5Ug9n6Uz6tL2AYEKPW-yF8AOYQs-KWJr_gLnkG1ZeMj-FP3_oKu7iE9pt87WL3DfVRBuDi46WtufqVkFQPJ0plyn2TNwD5sqB8PNL0g8kmI986BU0Hg9SOkMNNKQBeoRNlCI1JYfWuf8G6bqq7qoUQva2kSzor-h6r-yaP-_rJNu__z1PXUgQcBvTY04I54lGpd5bVTddZa1UccLu_MfityDkKTwVr3J6oP6Vkkk0Yq8mmQTqfGA5N8HfYg2oXJjW8rqBrTxtH7uJc5rR2SxHbRrrhBWFVTBvMM9UVjyyukGsmkMUyE_B1QLjqV0QEJuIRG6SNGKA=s64",
      "userId": "08194772631130095241"
     },
     "user_tz": -330
    },
    "id": "m0qa_aVWXs4n",
    "outputId": "643712e2-774f-431a-a069-a154f90bfd2c"
   },
   "outputs": [],
   "source": [
    "std_y = np.std(temp['y'])           # standard deviation of y\n",
    "std_x = np.std(temp['x'])           # standard deviation of x\n",
    "r = temp.corr().iloc[0, 1]          # correlation between x and y as diagonal elements are always 1\n",
    "sum_y = np.sum(temp['y'])           # sum of y values\n",
    "sum_x = np.sum(temp['x'])           # sum of x values"
   ]
  },
  {
   "cell_type": "code",
   "execution_count": 13,
   "metadata": {
    "colab": {
     "base_uri": "https://localhost:8080/",
     "height": 135
    },
    "executionInfo": {
     "elapsed": 1962,
     "status": "error",
     "timestamp": 1607933779883,
     "user": {
      "displayName": "Harpreet Singh Sachdev",
      "photoUrl": "https://lh3.googleusercontent.com/a-/AOh14Gj5NeI_fBn0wsbx5KUdxizOF794sYC3Ve9k_xyEJSPlGp-Bk2ktEV-QYwQiBXINCjbZdBI9C6lsMUpLaCtUMwZSBA2-5F_3v4W-7nEmKrc0dgTcOcSh0sBYYx1e2BbnUT6HZjWY0H_yTnKPiytVWALCqwP5rmJt6h-Dhvg6T6OnKjHU4KcPcnfPnSnFJZhxV7U3OKAZYnD_A2KMwxyi7zVq4D2EdWD2QJO1Wfe0U4_6mefaqJ5bk81MbLA5BiGMVz2c8IL_voa05aGmpLxIXPSLxkjjcsTiMELQ6jwvt8nZFAOpEJDsucSZ7kajpXUKTaj7aAw_Cz_p1BAs70LOPoYeK6k8mO1fp2u2pjcWlguf1CC61uTxoQOmgQxFLqKn_PWgzZ2wkMgFXDSCofn3y4EaopNm1FDQ3iQqHyXhR2m5ZnbsNpCO7wQO7AU2M5Ug9n6Uz6tL2AYEKPW-yF8AOYQs-KWJr_gLnkG1ZeMj-FP3_oKu7iE9pt87WL3DfVRBuDi46WtufqVkFQPJ0plyn2TNwD5sqB8PNL0g8kmI986BU0Hg9SOkMNNKQBeoRNlCI1JYfWuf8G6bqq7qoUQva2kSzor-h6r-yaP-_rJNu__z1PXUgQcBvTY04I54lGpd5bVTddZa1UccLu_MfityDkKTwVr3J6oP6Vkkk0Yq8mmQTqfGA5N8HfYg2oXJjW8rqBrTxtH7uJc5rR2SxHbRrrhBWFVTBvMM9UVjyyukGsmkMUyE_B1QLjqV0QEJuIRG6SNGKA=s64",
      "userId": "08194772631130095241"
     },
     "user_tz": -330
    },
    "id": "NTEs9BfhW0O5",
    "outputId": "a2b24f45-ba7b-4c5c-f20b-212c8fe8b560"
   },
   "outputs": [
    {
     "name": "stdout",
     "output_type": "stream",
     "text": [
      "300.3462204270052\n"
     ]
    }
   ],
   "source": [
    "# value of slope is\n",
    "\n",
    "m = std_y / std_x * r\n",
    "print(m)"
   ]
  },
  {
   "cell_type": "code",
   "execution_count": 14,
   "metadata": {
    "executionInfo": {
     "elapsed": 1749,
     "status": "aborted",
     "timestamp": 1607933779877,
     "user": {
      "displayName": "Harpreet Singh Sachdev",
      "photoUrl": "https://lh3.googleusercontent.com/a-/AOh14Gj5NeI_fBn0wsbx5KUdxizOF794sYC3Ve9k_xyEJSPlGp-Bk2ktEV-QYwQiBXINCjbZdBI9C6lsMUpLaCtUMwZSBA2-5F_3v4W-7nEmKrc0dgTcOcSh0sBYYx1e2BbnUT6HZjWY0H_yTnKPiytVWALCqwP5rmJt6h-Dhvg6T6OnKjHU4KcPcnfPnSnFJZhxV7U3OKAZYnD_A2KMwxyi7zVq4D2EdWD2QJO1Wfe0U4_6mefaqJ5bk81MbLA5BiGMVz2c8IL_voa05aGmpLxIXPSLxkjjcsTiMELQ6jwvt8nZFAOpEJDsucSZ7kajpXUKTaj7aAw_Cz_p1BAs70LOPoYeK6k8mO1fp2u2pjcWlguf1CC61uTxoQOmgQxFLqKn_PWgzZ2wkMgFXDSCofn3y4EaopNm1FDQ3iQqHyXhR2m5ZnbsNpCO7wQO7AU2M5Ug9n6Uz6tL2AYEKPW-yF8AOYQs-KWJr_gLnkG1ZeMj-FP3_oKu7iE9pt87WL3DfVRBuDi46WtufqVkFQPJ0plyn2TNwD5sqB8PNL0g8kmI986BU0Hg9SOkMNNKQBeoRNlCI1JYfWuf8G6bqq7qoUQva2kSzor-h6r-yaP-_rJNu__z1PXUgQcBvTY04I54lGpd5bVTddZa1UccLu_MfityDkKTwVr3J6oP6Vkkk0Yq8mmQTqfGA5N8HfYg2oXJjW8rqBrTxtH7uJc5rR2SxHbRrrhBWFVTBvMM9UVjyyukGsmkMUyE_B1QLjqV0QEJuIRG6SNGKA=s64",
      "userId": "08194772631130095241"
     },
     "user_tz": -330
    },
    "id": "F__PUhRHW0Q2"
   },
   "outputs": [
    {
     "name": "stdout",
     "output_type": "stream",
     "text": [
      "-1946.0473167916934\n"
     ]
    }
   ],
   "source": [
    "# value of intercept is\n",
    "\n",
    "c = sum_y - m * sum_x\n",
    "print(c)"
   ]
  },
  {
   "cell_type": "markdown",
   "metadata": {
    "executionInfo": {
     "elapsed": 1620,
     "status": "aborted",
     "timestamp": 1607933779878,
     "user": {
      "displayName": "Harpreet Singh Sachdev",
      "photoUrl": "https://lh3.googleusercontent.com/a-/AOh14Gj5NeI_fBn0wsbx5KUdxizOF794sYC3Ve9k_xyEJSPlGp-Bk2ktEV-QYwQiBXINCjbZdBI9C6lsMUpLaCtUMwZSBA2-5F_3v4W-7nEmKrc0dgTcOcSh0sBYYx1e2BbnUT6HZjWY0H_yTnKPiytVWALCqwP5rmJt6h-Dhvg6T6OnKjHU4KcPcnfPnSnFJZhxV7U3OKAZYnD_A2KMwxyi7zVq4D2EdWD2QJO1Wfe0U4_6mefaqJ5bk81MbLA5BiGMVz2c8IL_voa05aGmpLxIXPSLxkjjcsTiMELQ6jwvt8nZFAOpEJDsucSZ7kajpXUKTaj7aAw_Cz_p1BAs70LOPoYeK6k8mO1fp2u2pjcWlguf1CC61uTxoQOmgQxFLqKn_PWgzZ2wkMgFXDSCofn3y4EaopNm1FDQ3iQqHyXhR2m5ZnbsNpCO7wQO7AU2M5Ug9n6Uz6tL2AYEKPW-yF8AOYQs-KWJr_gLnkG1ZeMj-FP3_oKu7iE9pt87WL3DfVRBuDi46WtufqVkFQPJ0plyn2TNwD5sqB8PNL0g8kmI986BU0Hg9SOkMNNKQBeoRNlCI1JYfWuf8G6bqq7qoUQva2kSzor-h6r-yaP-_rJNu__z1PXUgQcBvTY04I54lGpd5bVTddZa1UccLu_MfityDkKTwVr3J6oP6Vkkk0Yq8mmQTqfGA5N8HfYg2oXJjW8rqBrTxtH7uJc5rR2SxHbRrrhBWFVTBvMM9UVjyyukGsmkMUyE_B1QLjqV0QEJuIRG6SNGKA=s64",
      "userId": "08194772631130095241"
     },
     "user_tz": -330
    },
    "id": "kfxv09uZZJ3P"
   },
   "source": [
    "<font size = 4.5px> Hence, line equation is y = m * x + c <br>\n",
    "or,<br>\n",
    "y = 300.34 * x - 1946.04<br>\n",
    "\n",
    "whiich is also called <strong> Best Fit Line </strong>\n",
    "</font>"
   ]
  },
  {
   "cell_type": "code",
   "execution_count": 15,
   "metadata": {
    "colab": {
     "base_uri": "https://localhost:8080/",
     "height": 171
    },
    "executionInfo": {
     "elapsed": 1463,
     "status": "error",
     "timestamp": 1607933779885,
     "user": {
      "displayName": "Harpreet Singh Sachdev",
      "photoUrl": "https://lh3.googleusercontent.com/a-/AOh14Gj5NeI_fBn0wsbx5KUdxizOF794sYC3Ve9k_xyEJSPlGp-Bk2ktEV-QYwQiBXINCjbZdBI9C6lsMUpLaCtUMwZSBA2-5F_3v4W-7nEmKrc0dgTcOcSh0sBYYx1e2BbnUT6HZjWY0H_yTnKPiytVWALCqwP5rmJt6h-Dhvg6T6OnKjHU4KcPcnfPnSnFJZhxV7U3OKAZYnD_A2KMwxyi7zVq4D2EdWD2QJO1Wfe0U4_6mefaqJ5bk81MbLA5BiGMVz2c8IL_voa05aGmpLxIXPSLxkjjcsTiMELQ6jwvt8nZFAOpEJDsucSZ7kajpXUKTaj7aAw_Cz_p1BAs70LOPoYeK6k8mO1fp2u2pjcWlguf1CC61uTxoQOmgQxFLqKn_PWgzZ2wkMgFXDSCofn3y4EaopNm1FDQ3iQqHyXhR2m5ZnbsNpCO7wQO7AU2M5Ug9n6Uz6tL2AYEKPW-yF8AOYQs-KWJr_gLnkG1ZeMj-FP3_oKu7iE9pt87WL3DfVRBuDi46WtufqVkFQPJ0plyn2TNwD5sqB8PNL0g8kmI986BU0Hg9SOkMNNKQBeoRNlCI1JYfWuf8G6bqq7qoUQva2kSzor-h6r-yaP-_rJNu__z1PXUgQcBvTY04I54lGpd5bVTddZa1UccLu_MfityDkKTwVr3J6oP6Vkkk0Yq8mmQTqfGA5N8HfYg2oXJjW8rqBrTxtH7uJc5rR2SxHbRrrhBWFVTBvMM9UVjyyukGsmkMUyE_B1QLjqV0QEJuIRG6SNGKA=s64",
      "userId": "08194772631130095241"
     },
     "user_tz": -330
    },
    "id": "14KpQKk3XcLQ",
    "outputId": "2a4da40b-d02e-463e-883d-e0ebe71f9d92"
   },
   "outputs": [
    {
     "data": {
      "text/html": [
       "<div>\n",
       "<style scoped>\n",
       "    .dataframe tbody tr th:only-of-type {\n",
       "        vertical-align: middle;\n",
       "    }\n",
       "\n",
       "    .dataframe tbody tr th {\n",
       "        vertical-align: top;\n",
       "    }\n",
       "\n",
       "    .dataframe thead th {\n",
       "        text-align: right;\n",
       "    }\n",
       "</style>\n",
       "<table border=\"1\" class=\"dataframe\">\n",
       "  <thead>\n",
       "    <tr style=\"text-align: right;\">\n",
       "      <th></th>\n",
       "      <th>Unnamed: 0</th>\n",
       "      <th>Age</th>\n",
       "      <th>BMI</th>\n",
       "      <th>Children</th>\n",
       "      <th>Expenses</th>\n",
       "      <th>Gender</th>\n",
       "      <th>smoke</th>\n",
       "    </tr>\n",
       "  </thead>\n",
       "  <tbody>\n",
       "    <tr>\n",
       "      <td>count</td>\n",
       "      <td>1338.000000</td>\n",
       "      <td>1338.000000</td>\n",
       "      <td>1338.000000</td>\n",
       "      <td>1338.000000</td>\n",
       "      <td>1338.000000</td>\n",
       "      <td>1338.000000</td>\n",
       "      <td>1338.000000</td>\n",
       "    </tr>\n",
       "    <tr>\n",
       "      <td>mean</td>\n",
       "      <td>668.500000</td>\n",
       "      <td>39.207025</td>\n",
       "      <td>30.665471</td>\n",
       "      <td>1.094918</td>\n",
       "      <td>115.637691</td>\n",
       "      <td>0.494768</td>\n",
       "      <td>0.204783</td>\n",
       "    </tr>\n",
       "    <tr>\n",
       "      <td>std</td>\n",
       "      <td>386.391641</td>\n",
       "      <td>14.049960</td>\n",
       "      <td>6.098382</td>\n",
       "      <td>1.205493</td>\n",
       "      <td>20.172261</td>\n",
       "      <td>0.500160</td>\n",
       "      <td>0.403694</td>\n",
       "    </tr>\n",
       "    <tr>\n",
       "      <td>min</td>\n",
       "      <td>0.000000</td>\n",
       "      <td>18.000000</td>\n",
       "      <td>16.000000</td>\n",
       "      <td>0.000000</td>\n",
       "      <td>62.260000</td>\n",
       "      <td>0.000000</td>\n",
       "      <td>0.000000</td>\n",
       "    </tr>\n",
       "    <tr>\n",
       "      <td>25%</td>\n",
       "      <td>334.250000</td>\n",
       "      <td>27.000000</td>\n",
       "      <td>26.300000</td>\n",
       "      <td>0.000000</td>\n",
       "      <td>101.497500</td>\n",
       "      <td>0.000000</td>\n",
       "      <td>0.000000</td>\n",
       "    </tr>\n",
       "    <tr>\n",
       "      <td>50%</td>\n",
       "      <td>668.500000</td>\n",
       "      <td>39.000000</td>\n",
       "      <td>30.400000</td>\n",
       "      <td>1.000000</td>\n",
       "      <td>115.197500</td>\n",
       "      <td>0.000000</td>\n",
       "      <td>0.000000</td>\n",
       "    </tr>\n",
       "    <tr>\n",
       "      <td>75%</td>\n",
       "      <td>1002.750000</td>\n",
       "      <td>51.000000</td>\n",
       "      <td>34.700000</td>\n",
       "      <td>2.000000</td>\n",
       "      <td>129.152500</td>\n",
       "      <td>1.000000</td>\n",
       "      <td>0.000000</td>\n",
       "    </tr>\n",
       "    <tr>\n",
       "      <td>max</td>\n",
       "      <td>1337.000000</td>\n",
       "      <td>64.000000</td>\n",
       "      <td>53.100000</td>\n",
       "      <td>5.000000</td>\n",
       "      <td>179.340000</td>\n",
       "      <td>1.000000</td>\n",
       "      <td>1.000000</td>\n",
       "    </tr>\n",
       "  </tbody>\n",
       "</table>\n",
       "</div>"
      ],
      "text/plain": [
       "        Unnamed: 0          Age          BMI     Children     Expenses  \\\n",
       "count  1338.000000  1338.000000  1338.000000  1338.000000  1338.000000   \n",
       "mean    668.500000    39.207025    30.665471     1.094918   115.637691   \n",
       "std     386.391641    14.049960     6.098382     1.205493    20.172261   \n",
       "min       0.000000    18.000000    16.000000     0.000000    62.260000   \n",
       "25%     334.250000    27.000000    26.300000     0.000000   101.497500   \n",
       "50%     668.500000    39.000000    30.400000     1.000000   115.197500   \n",
       "75%    1002.750000    51.000000    34.700000     2.000000   129.152500   \n",
       "max    1337.000000    64.000000    53.100000     5.000000   179.340000   \n",
       "\n",
       "            Gender        smoke  \n",
       "count  1338.000000  1338.000000  \n",
       "mean      0.494768     0.204783  \n",
       "std       0.500160     0.403694  \n",
       "min       0.000000     0.000000  \n",
       "25%       0.000000     0.000000  \n",
       "50%       0.000000     0.000000  \n",
       "75%       1.000000     0.000000  \n",
       "max       1.000000     1.000000  "
      ]
     },
     "execution_count": 15,
     "metadata": {},
     "output_type": "execute_result"
    }
   ],
   "source": [
    "data.describe()"
   ]
  },
  {
   "cell_type": "markdown",
   "metadata": {},
   "source": [
    "## SIMPLE LINEAR REGRESSION \n",
    "### Fitting linear regression with 1 independent variable"
   ]
  },
  {
   "cell_type": "markdown",
   "metadata": {},
   "source": [
    "#### Choosing independent and dependent variables"
   ]
  },
  {
   "cell_type": "code",
   "execution_count": 16,
   "metadata": {
    "executionInfo": {
     "elapsed": 1464,
     "status": "ok",
     "timestamp": 1607933787388,
     "user": {
      "displayName": "Harpreet Singh Sachdev",
      "photoUrl": "https://lh3.googleusercontent.com/a-/AOh14Gj5NeI_fBn0wsbx5KUdxizOF794sYC3Ve9k_xyEJSPlGp-Bk2ktEV-QYwQiBXINCjbZdBI9C6lsMUpLaCtUMwZSBA2-5F_3v4W-7nEmKrc0dgTcOcSh0sBYYx1e2BbnUT6HZjWY0H_yTnKPiytVWALCqwP5rmJt6h-Dhvg6T6OnKjHU4KcPcnfPnSnFJZhxV7U3OKAZYnD_A2KMwxyi7zVq4D2EdWD2QJO1Wfe0U4_6mefaqJ5bk81MbLA5BiGMVz2c8IL_voa05aGmpLxIXPSLxkjjcsTiMELQ6jwvt8nZFAOpEJDsucSZ7kajpXUKTaj7aAw_Cz_p1BAs70LOPoYeK6k8mO1fp2u2pjcWlguf1CC61uTxoQOmgQxFLqKn_PWgzZ2wkMgFXDSCofn3y4EaopNm1FDQ3iQqHyXhR2m5ZnbsNpCO7wQO7AU2M5Ug9n6Uz6tL2AYEKPW-yF8AOYQs-KWJr_gLnkG1ZeMj-FP3_oKu7iE9pt87WL3DfVRBuDi46WtufqVkFQPJ0plyn2TNwD5sqB8PNL0g8kmI986BU0Hg9SOkMNNKQBeoRNlCI1JYfWuf8G6bqq7qoUQva2kSzor-h6r-yaP-_rJNu__z1PXUgQcBvTY04I54lGpd5bVTddZa1UccLu_MfityDkKTwVr3J6oP6Vkkk0Yq8mmQTqfGA5N8HfYg2oXJjW8rqBrTxtH7uJc5rR2SxHbRrrhBWFVTBvMM9UVjyyukGsmkMUyE_B1QLjqV0QEJuIRG6SNGKA=s64",
      "userId": "08194772631130095241"
     },
     "user_tz": -330
    },
    "id": "WrxSPIyPeQvL"
   },
   "outputs": [],
   "source": [
    "x = data[['BMI']]\n",
    "y = data[['Expenses']]"
   ]
  },
  {
   "cell_type": "code",
   "execution_count": 17,
   "metadata": {
    "executionInfo": {
     "elapsed": 1357,
     "status": "ok",
     "timestamp": 1607933789750,
     "user": {
      "displayName": "Harpreet Singh Sachdev",
      "photoUrl": "https://lh3.googleusercontent.com/a-/AOh14Gj5NeI_fBn0wsbx5KUdxizOF794sYC3Ve9k_xyEJSPlGp-Bk2ktEV-QYwQiBXINCjbZdBI9C6lsMUpLaCtUMwZSBA2-5F_3v4W-7nEmKrc0dgTcOcSh0sBYYx1e2BbnUT6HZjWY0H_yTnKPiytVWALCqwP5rmJt6h-Dhvg6T6OnKjHU4KcPcnfPnSnFJZhxV7U3OKAZYnD_A2KMwxyi7zVq4D2EdWD2QJO1Wfe0U4_6mefaqJ5bk81MbLA5BiGMVz2c8IL_voa05aGmpLxIXPSLxkjjcsTiMELQ6jwvt8nZFAOpEJDsucSZ7kajpXUKTaj7aAw_Cz_p1BAs70LOPoYeK6k8mO1fp2u2pjcWlguf1CC61uTxoQOmgQxFLqKn_PWgzZ2wkMgFXDSCofn3y4EaopNm1FDQ3iQqHyXhR2m5ZnbsNpCO7wQO7AU2M5Ug9n6Uz6tL2AYEKPW-yF8AOYQs-KWJr_gLnkG1ZeMj-FP3_oKu7iE9pt87WL3DfVRBuDi46WtufqVkFQPJ0plyn2TNwD5sqB8PNL0g8kmI986BU0Hg9SOkMNNKQBeoRNlCI1JYfWuf8G6bqq7qoUQva2kSzor-h6r-yaP-_rJNu__z1PXUgQcBvTY04I54lGpd5bVTddZa1UccLu_MfityDkKTwVr3J6oP6Vkkk0Yq8mmQTqfGA5N8HfYg2oXJjW8rqBrTxtH7uJc5rR2SxHbRrrhBWFVTBvMM9UVjyyukGsmkMUyE_B1QLjqV0QEJuIRG6SNGKA=s64",
      "userId": "08194772631130095241"
     },
     "user_tz": -330
    },
    "id": "wKN0PmNGeEXw"
   },
   "outputs": [],
   "source": [
    "# splitting dataset into testing and training set\n",
    "\n",
    "from sklearn.model_selection import train_test_split\n",
    "\n",
    "x_train, x_test, y_train, y_test = train_test_split(x, y, test_size = 0.20, random_state = 42)"
   ]
  },
  {
   "cell_type": "code",
   "execution_count": 18,
   "metadata": {
    "colab": {
     "base_uri": "https://localhost:8080/"
    },
    "executionInfo": {
     "elapsed": 1264,
     "status": "ok",
     "timestamp": 1607933790353,
     "user": {
      "displayName": "Harpreet Singh Sachdev",
      "photoUrl": "https://lh3.googleusercontent.com/a-/AOh14Gj5NeI_fBn0wsbx5KUdxizOF794sYC3Ve9k_xyEJSPlGp-Bk2ktEV-QYwQiBXINCjbZdBI9C6lsMUpLaCtUMwZSBA2-5F_3v4W-7nEmKrc0dgTcOcSh0sBYYx1e2BbnUT6HZjWY0H_yTnKPiytVWALCqwP5rmJt6h-Dhvg6T6OnKjHU4KcPcnfPnSnFJZhxV7U3OKAZYnD_A2KMwxyi7zVq4D2EdWD2QJO1Wfe0U4_6mefaqJ5bk81MbLA5BiGMVz2c8IL_voa05aGmpLxIXPSLxkjjcsTiMELQ6jwvt8nZFAOpEJDsucSZ7kajpXUKTaj7aAw_Cz_p1BAs70LOPoYeK6k8mO1fp2u2pjcWlguf1CC61uTxoQOmgQxFLqKn_PWgzZ2wkMgFXDSCofn3y4EaopNm1FDQ3iQqHyXhR2m5ZnbsNpCO7wQO7AU2M5Ug9n6Uz6tL2AYEKPW-yF8AOYQs-KWJr_gLnkG1ZeMj-FP3_oKu7iE9pt87WL3DfVRBuDi46WtufqVkFQPJ0plyn2TNwD5sqB8PNL0g8kmI986BU0Hg9SOkMNNKQBeoRNlCI1JYfWuf8G6bqq7qoUQva2kSzor-h6r-yaP-_rJNu__z1PXUgQcBvTY04I54lGpd5bVTddZa1UccLu_MfityDkKTwVr3J6oP6Vkkk0Yq8mmQTqfGA5N8HfYg2oXJjW8rqBrTxtH7uJc5rR2SxHbRrrhBWFVTBvMM9UVjyyukGsmkMUyE_B1QLjqV0QEJuIRG6SNGKA=s64",
      "userId": "08194772631130095241"
     },
     "user_tz": -330
    },
    "id": "XVuPBmBcepkI",
    "outputId": "030dbfa9-df9f-4e38-9f5d-ece330817f79"
   },
   "outputs": [
    {
     "data": {
      "text/plain": [
       "((1070, 1), (268, 1))"
      ]
     },
     "execution_count": 18,
     "metadata": {},
     "output_type": "execute_result"
    }
   ],
   "source": [
    "x_train.shape, x_test.shape"
   ]
  },
  {
   "cell_type": "code",
   "execution_count": 19,
   "metadata": {
    "executionInfo": {
     "elapsed": 1478,
     "status": "ok",
     "timestamp": 1607933790925,
     "user": {
      "displayName": "Harpreet Singh Sachdev",
      "photoUrl": "https://lh3.googleusercontent.com/a-/AOh14Gj5NeI_fBn0wsbx5KUdxizOF794sYC3Ve9k_xyEJSPlGp-Bk2ktEV-QYwQiBXINCjbZdBI9C6lsMUpLaCtUMwZSBA2-5F_3v4W-7nEmKrc0dgTcOcSh0sBYYx1e2BbnUT6HZjWY0H_yTnKPiytVWALCqwP5rmJt6h-Dhvg6T6OnKjHU4KcPcnfPnSnFJZhxV7U3OKAZYnD_A2KMwxyi7zVq4D2EdWD2QJO1Wfe0U4_6mefaqJ5bk81MbLA5BiGMVz2c8IL_voa05aGmpLxIXPSLxkjjcsTiMELQ6jwvt8nZFAOpEJDsucSZ7kajpXUKTaj7aAw_Cz_p1BAs70LOPoYeK6k8mO1fp2u2pjcWlguf1CC61uTxoQOmgQxFLqKn_PWgzZ2wkMgFXDSCofn3y4EaopNm1FDQ3iQqHyXhR2m5ZnbsNpCO7wQO7AU2M5Ug9n6Uz6tL2AYEKPW-yF8AOYQs-KWJr_gLnkG1ZeMj-FP3_oKu7iE9pt87WL3DfVRBuDi46WtufqVkFQPJ0plyn2TNwD5sqB8PNL0g8kmI986BU0Hg9SOkMNNKQBeoRNlCI1JYfWuf8G6bqq7qoUQva2kSzor-h6r-yaP-_rJNu__z1PXUgQcBvTY04I54lGpd5bVTddZa1UccLu_MfityDkKTwVr3J6oP6Vkkk0Yq8mmQTqfGA5N8HfYg2oXJjW8rqBrTxtH7uJc5rR2SxHbRrrhBWFVTBvMM9UVjyyukGsmkMUyE_B1QLjqV0QEJuIRG6SNGKA=s64",
      "userId": "08194772631130095241"
     },
     "user_tz": -330
    },
    "id": "V5P5tKUvevX4"
   },
   "outputs": [],
   "source": [
    "from sklearn.linear_model import LinearRegression\n",
    "\n",
    "model = LinearRegression()"
   ]
  },
  {
   "cell_type": "code",
   "execution_count": 20,
   "metadata": {
    "colab": {
     "base_uri": "https://localhost:8080/"
    },
    "executionInfo": {
     "elapsed": 1277,
     "status": "ok",
     "timestamp": 1607933790925,
     "user": {
      "displayName": "Harpreet Singh Sachdev",
      "photoUrl": "https://lh3.googleusercontent.com/a-/AOh14Gj5NeI_fBn0wsbx5KUdxizOF794sYC3Ve9k_xyEJSPlGp-Bk2ktEV-QYwQiBXINCjbZdBI9C6lsMUpLaCtUMwZSBA2-5F_3v4W-7nEmKrc0dgTcOcSh0sBYYx1e2BbnUT6HZjWY0H_yTnKPiytVWALCqwP5rmJt6h-Dhvg6T6OnKjHU4KcPcnfPnSnFJZhxV7U3OKAZYnD_A2KMwxyi7zVq4D2EdWD2QJO1Wfe0U4_6mefaqJ5bk81MbLA5BiGMVz2c8IL_voa05aGmpLxIXPSLxkjjcsTiMELQ6jwvt8nZFAOpEJDsucSZ7kajpXUKTaj7aAw_Cz_p1BAs70LOPoYeK6k8mO1fp2u2pjcWlguf1CC61uTxoQOmgQxFLqKn_PWgzZ2wkMgFXDSCofn3y4EaopNm1FDQ3iQqHyXhR2m5ZnbsNpCO7wQO7AU2M5Ug9n6Uz6tL2AYEKPW-yF8AOYQs-KWJr_gLnkG1ZeMj-FP3_oKu7iE9pt87WL3DfVRBuDi46WtufqVkFQPJ0plyn2TNwD5sqB8PNL0g8kmI986BU0Hg9SOkMNNKQBeoRNlCI1JYfWuf8G6bqq7qoUQva2kSzor-h6r-yaP-_rJNu__z1PXUgQcBvTY04I54lGpd5bVTddZa1UccLu_MfityDkKTwVr3J6oP6Vkkk0Yq8mmQTqfGA5N8HfYg2oXJjW8rqBrTxtH7uJc5rR2SxHbRrrhBWFVTBvMM9UVjyyukGsmkMUyE_B1QLjqV0QEJuIRG6SNGKA=s64",
      "userId": "08194772631130095241"
     },
     "user_tz": -330
    },
    "id": "4z2cOJVVevaN",
    "outputId": "e9761bf4-58d1-4af3-dd6b-10e8ddfa6253"
   },
   "outputs": [
    {
     "data": {
      "text/plain": [
       "LinearRegression()"
      ]
     },
     "execution_count": 20,
     "metadata": {},
     "output_type": "execute_result"
    }
   ],
   "source": [
    "model.fit(x_train, y_train)"
   ]
  },
  {
   "cell_type": "code",
   "execution_count": 21,
   "metadata": {
    "colab": {
     "base_uri": "https://localhost:8080/"
    },
    "executionInfo": {
     "elapsed": 1042,
     "status": "ok",
     "timestamp": 1607933790926,
     "user": {
      "displayName": "Harpreet Singh Sachdev",
      "photoUrl": "https://lh3.googleusercontent.com/a-/AOh14Gj5NeI_fBn0wsbx5KUdxizOF794sYC3Ve9k_xyEJSPlGp-Bk2ktEV-QYwQiBXINCjbZdBI9C6lsMUpLaCtUMwZSBA2-5F_3v4W-7nEmKrc0dgTcOcSh0sBYYx1e2BbnUT6HZjWY0H_yTnKPiytVWALCqwP5rmJt6h-Dhvg6T6OnKjHU4KcPcnfPnSnFJZhxV7U3OKAZYnD_A2KMwxyi7zVq4D2EdWD2QJO1Wfe0U4_6mefaqJ5bk81MbLA5BiGMVz2c8IL_voa05aGmpLxIXPSLxkjjcsTiMELQ6jwvt8nZFAOpEJDsucSZ7kajpXUKTaj7aAw_Cz_p1BAs70LOPoYeK6k8mO1fp2u2pjcWlguf1CC61uTxoQOmgQxFLqKn_PWgzZ2wkMgFXDSCofn3y4EaopNm1FDQ3iQqHyXhR2m5ZnbsNpCO7wQO7AU2M5Ug9n6Uz6tL2AYEKPW-yF8AOYQs-KWJr_gLnkG1ZeMj-FP3_oKu7iE9pt87WL3DfVRBuDi46WtufqVkFQPJ0plyn2TNwD5sqB8PNL0g8kmI986BU0Hg9SOkMNNKQBeoRNlCI1JYfWuf8G6bqq7qoUQva2kSzor-h6r-yaP-_rJNu__z1PXUgQcBvTY04I54lGpd5bVTddZa1UccLu_MfityDkKTwVr3J6oP6Vkkk0Yq8mmQTqfGA5N8HfYg2oXJjW8rqBrTxtH7uJc5rR2SxHbRrrhBWFVTBvMM9UVjyyukGsmkMUyE_B1QLjqV0QEJuIRG6SNGKA=s64",
      "userId": "08194772631130095241"
     },
     "user_tz": -330
    },
    "id": "moYSQkP7evd-",
    "outputId": "f448f70f-7bf4-460f-afcc-3e586935dfa6"
   },
   "outputs": [
    {
     "data": {
      "text/plain": [
       "0.7656193835053439"
      ]
     },
     "execution_count": 21,
     "metadata": {},
     "output_type": "execute_result"
    }
   ],
   "source": [
    "model.score(x_train, y_train)"
   ]
  },
  {
   "cell_type": "code",
   "execution_count": 22,
   "metadata": {
    "colab": {
     "base_uri": "https://localhost:8080/"
    },
    "executionInfo": {
     "elapsed": 1248,
     "status": "ok",
     "timestamp": 1607933791311,
     "user": {
      "displayName": "Harpreet Singh Sachdev",
      "photoUrl": "https://lh3.googleusercontent.com/a-/AOh14Gj5NeI_fBn0wsbx5KUdxizOF794sYC3Ve9k_xyEJSPlGp-Bk2ktEV-QYwQiBXINCjbZdBI9C6lsMUpLaCtUMwZSBA2-5F_3v4W-7nEmKrc0dgTcOcSh0sBYYx1e2BbnUT6HZjWY0H_yTnKPiytVWALCqwP5rmJt6h-Dhvg6T6OnKjHU4KcPcnfPnSnFJZhxV7U3OKAZYnD_A2KMwxyi7zVq4D2EdWD2QJO1Wfe0U4_6mefaqJ5bk81MbLA5BiGMVz2c8IL_voa05aGmpLxIXPSLxkjjcsTiMELQ6jwvt8nZFAOpEJDsucSZ7kajpXUKTaj7aAw_Cz_p1BAs70LOPoYeK6k8mO1fp2u2pjcWlguf1CC61uTxoQOmgQxFLqKn_PWgzZ2wkMgFXDSCofn3y4EaopNm1FDQ3iQqHyXhR2m5ZnbsNpCO7wQO7AU2M5Ug9n6Uz6tL2AYEKPW-yF8AOYQs-KWJr_gLnkG1ZeMj-FP3_oKu7iE9pt87WL3DfVRBuDi46WtufqVkFQPJ0plyn2TNwD5sqB8PNL0g8kmI986BU0Hg9SOkMNNKQBeoRNlCI1JYfWuf8G6bqq7qoUQva2kSzor-h6r-yaP-_rJNu__z1PXUgQcBvTY04I54lGpd5bVTddZa1UccLu_MfityDkKTwVr3J6oP6Vkkk0Yq8mmQTqfGA5N8HfYg2oXJjW8rqBrTxtH7uJc5rR2SxHbRrrhBWFVTBvMM9UVjyyukGsmkMUyE_B1QLjqV0QEJuIRG6SNGKA=s64",
      "userId": "08194772631130095241"
     },
     "user_tz": -330
    },
    "id": "8J_DUMQHevf2",
    "outputId": "83e7ea15-ec75-4e3e-b27f-83430c66c44a"
   },
   "outputs": [
    {
     "data": {
      "text/plain": [
       "(array([[2.91160413]]), array([26.48891837]))"
      ]
     },
     "execution_count": 22,
     "metadata": {},
     "output_type": "execute_result"
    }
   ],
   "source": [
    "model.coef_, model.intercept_"
   ]
  },
  {
   "cell_type": "code",
   "execution_count": 23,
   "metadata": {
    "executionInfo": {
     "elapsed": 1112,
     "status": "ok",
     "timestamp": 1607933791811,
     "user": {
      "displayName": "Harpreet Singh Sachdev",
      "photoUrl": "https://lh3.googleusercontent.com/a-/AOh14Gj5NeI_fBn0wsbx5KUdxizOF794sYC3Ve9k_xyEJSPlGp-Bk2ktEV-QYwQiBXINCjbZdBI9C6lsMUpLaCtUMwZSBA2-5F_3v4W-7nEmKrc0dgTcOcSh0sBYYx1e2BbnUT6HZjWY0H_yTnKPiytVWALCqwP5rmJt6h-Dhvg6T6OnKjHU4KcPcnfPnSnFJZhxV7U3OKAZYnD_A2KMwxyi7zVq4D2EdWD2QJO1Wfe0U4_6mefaqJ5bk81MbLA5BiGMVz2c8IL_voa05aGmpLxIXPSLxkjjcsTiMELQ6jwvt8nZFAOpEJDsucSZ7kajpXUKTaj7aAw_Cz_p1BAs70LOPoYeK6k8mO1fp2u2pjcWlguf1CC61uTxoQOmgQxFLqKn_PWgzZ2wkMgFXDSCofn3y4EaopNm1FDQ3iQqHyXhR2m5ZnbsNpCO7wQO7AU2M5Ug9n6Uz6tL2AYEKPW-yF8AOYQs-KWJr_gLnkG1ZeMj-FP3_oKu7iE9pt87WL3DfVRBuDi46WtufqVkFQPJ0plyn2TNwD5sqB8PNL0g8kmI986BU0Hg9SOkMNNKQBeoRNlCI1JYfWuf8G6bqq7qoUQva2kSzor-h6r-yaP-_rJNu__z1PXUgQcBvTY04I54lGpd5bVTddZa1UccLu_MfityDkKTwVr3J6oP6Vkkk0Yq8mmQTqfGA5N8HfYg2oXJjW8rqBrTxtH7uJc5rR2SxHbRrrhBWFVTBvMM9UVjyyukGsmkMUyE_B1QLjqV0QEJuIRG6SNGKA=s64",
      "userId": "08194772631130095241"
     },
     "user_tz": -330
    },
    "id": "yghMSiZvfT3Q"
   },
   "outputs": [],
   "source": [
    "from sklearn.metrics import mean_squared_error\n",
    "\n",
    "y_predicted = model.predict(x_test)"
   ]
  },
  {
   "cell_type": "code",
   "execution_count": 24,
   "metadata": {
    "colab": {
     "base_uri": "https://localhost:8080/"
    },
    "executionInfo": {
     "elapsed": 1379,
     "status": "ok",
     "timestamp": 1607933793117,
     "user": {
      "displayName": "Harpreet Singh Sachdev",
      "photoUrl": "https://lh3.googleusercontent.com/a-/AOh14Gj5NeI_fBn0wsbx5KUdxizOF794sYC3Ve9k_xyEJSPlGp-Bk2ktEV-QYwQiBXINCjbZdBI9C6lsMUpLaCtUMwZSBA2-5F_3v4W-7nEmKrc0dgTcOcSh0sBYYx1e2BbnUT6HZjWY0H_yTnKPiytVWALCqwP5rmJt6h-Dhvg6T6OnKjHU4KcPcnfPnSnFJZhxV7U3OKAZYnD_A2KMwxyi7zVq4D2EdWD2QJO1Wfe0U4_6mefaqJ5bk81MbLA5BiGMVz2c8IL_voa05aGmpLxIXPSLxkjjcsTiMELQ6jwvt8nZFAOpEJDsucSZ7kajpXUKTaj7aAw_Cz_p1BAs70LOPoYeK6k8mO1fp2u2pjcWlguf1CC61uTxoQOmgQxFLqKn_PWgzZ2wkMgFXDSCofn3y4EaopNm1FDQ3iQqHyXhR2m5ZnbsNpCO7wQO7AU2M5Ug9n6Uz6tL2AYEKPW-yF8AOYQs-KWJr_gLnkG1ZeMj-FP3_oKu7iE9pt87WL3DfVRBuDi46WtufqVkFQPJ0plyn2TNwD5sqB8PNL0g8kmI986BU0Hg9SOkMNNKQBeoRNlCI1JYfWuf8G6bqq7qoUQva2kSzor-h6r-yaP-_rJNu__z1PXUgQcBvTY04I54lGpd5bVTddZa1UccLu_MfityDkKTwVr3J6oP6Vkkk0Yq8mmQTqfGA5N8HfYg2oXJjW8rqBrTxtH7uJc5rR2SxHbRrrhBWFVTBvMM9UVjyyukGsmkMUyE_B1QLjqV0QEJuIRG6SNGKA=s64",
      "userId": "08194772631130095241"
     },
     "user_tz": -330
    },
    "id": "5CqeuMMMfT5e",
    "outputId": "b69e87f6-6e27-424b-a601-ae7c54f7787b"
   },
   "outputs": [
    {
     "data": {
      "text/plain": [
       "array([[ 99.86134236],\n",
       "       [113.83704217],\n",
       "       [104.81106937],\n",
       "       [101.31714442],\n",
       "       [119.36909001],\n",
       "       [151.3967354 ],\n",
       "       [ 92.00001122],\n",
       "       [136.83871477],\n",
       "       [ 76.85966976],\n",
       "       [110.0519568 ]])"
      ]
     },
     "execution_count": 24,
     "metadata": {},
     "output_type": "execute_result"
    }
   ],
   "source": [
    "# predicted values\n",
    "\n",
    "y_predicted[:10]"
   ]
  },
  {
   "cell_type": "code",
   "execution_count": 25,
   "metadata": {
    "colab": {
     "base_uri": "https://localhost:8080/",
     "height": 359
    },
    "executionInfo": {
     "elapsed": 1172,
     "status": "ok",
     "timestamp": 1607933793119,
     "user": {
      "displayName": "Harpreet Singh Sachdev",
      "photoUrl": "https://lh3.googleusercontent.com/a-/AOh14Gj5NeI_fBn0wsbx5KUdxizOF794sYC3Ve9k_xyEJSPlGp-Bk2ktEV-QYwQiBXINCjbZdBI9C6lsMUpLaCtUMwZSBA2-5F_3v4W-7nEmKrc0dgTcOcSh0sBYYx1e2BbnUT6HZjWY0H_yTnKPiytVWALCqwP5rmJt6h-Dhvg6T6OnKjHU4KcPcnfPnSnFJZhxV7U3OKAZYnD_A2KMwxyi7zVq4D2EdWD2QJO1Wfe0U4_6mefaqJ5bk81MbLA5BiGMVz2c8IL_voa05aGmpLxIXPSLxkjjcsTiMELQ6jwvt8nZFAOpEJDsucSZ7kajpXUKTaj7aAw_Cz_p1BAs70LOPoYeK6k8mO1fp2u2pjcWlguf1CC61uTxoQOmgQxFLqKn_PWgzZ2wkMgFXDSCofn3y4EaopNm1FDQ3iQqHyXhR2m5ZnbsNpCO7wQO7AU2M5Ug9n6Uz6tL2AYEKPW-yF8AOYQs-KWJr_gLnkG1ZeMj-FP3_oKu7iE9pt87WL3DfVRBuDi46WtufqVkFQPJ0plyn2TNwD5sqB8PNL0g8kmI986BU0Hg9SOkMNNKQBeoRNlCI1JYfWuf8G6bqq7qoUQva2kSzor-h6r-yaP-_rJNu__z1PXUgQcBvTY04I54lGpd5bVTddZa1UccLu_MfityDkKTwVr3J6oP6Vkkk0Yq8mmQTqfGA5N8HfYg2oXJjW8rqBrTxtH7uJc5rR2SxHbRrrhBWFVTBvMM9UVjyyukGsmkMUyE_B1QLjqV0QEJuIRG6SNGKA=s64",
      "userId": "08194772631130095241"
     },
     "user_tz": -330
    },
    "id": "ulijKcmafT7z",
    "outputId": "80b483b7-528f-4e79-f3e6-247efb97fe6a"
   },
   "outputs": [
    {
     "data": {
      "text/html": [
       "<div>\n",
       "<style scoped>\n",
       "    .dataframe tbody tr th:only-of-type {\n",
       "        vertical-align: middle;\n",
       "    }\n",
       "\n",
       "    .dataframe tbody tr th {\n",
       "        vertical-align: top;\n",
       "    }\n",
       "\n",
       "    .dataframe thead th {\n",
       "        text-align: right;\n",
       "    }\n",
       "</style>\n",
       "<table border=\"1\" class=\"dataframe\">\n",
       "  <thead>\n",
       "    <tr style=\"text-align: right;\">\n",
       "      <th></th>\n",
       "      <th>Expenses</th>\n",
       "    </tr>\n",
       "  </thead>\n",
       "  <tbody>\n",
       "    <tr>\n",
       "      <td>764</td>\n",
       "      <td>105.350</td>\n",
       "    </tr>\n",
       "    <tr>\n",
       "      <td>887</td>\n",
       "      <td>108.020</td>\n",
       "    </tr>\n",
       "    <tr>\n",
       "      <td>890</td>\n",
       "      <td>120.455</td>\n",
       "    </tr>\n",
       "    <tr>\n",
       "      <td>1293</td>\n",
       "      <td>110.495</td>\n",
       "    </tr>\n",
       "    <tr>\n",
       "      <td>259</td>\n",
       "      <td>102.555</td>\n",
       "    </tr>\n",
       "    <tr>\n",
       "      <td>1312</td>\n",
       "      <td>144.555</td>\n",
       "    </tr>\n",
       "    <tr>\n",
       "      <td>899</td>\n",
       "      <td>77.705</td>\n",
       "    </tr>\n",
       "    <tr>\n",
       "      <td>752</td>\n",
       "      <td>146.705</td>\n",
       "    </tr>\n",
       "    <tr>\n",
       "      <td>1286</td>\n",
       "      <td>72.535</td>\n",
       "    </tr>\n",
       "    <tr>\n",
       "      <td>707</td>\n",
       "      <td>118.455</td>\n",
       "    </tr>\n",
       "  </tbody>\n",
       "</table>\n",
       "</div>"
      ],
      "text/plain": [
       "      Expenses\n",
       "764    105.350\n",
       "887    108.020\n",
       "890    120.455\n",
       "1293   110.495\n",
       "259    102.555\n",
       "1312   144.555\n",
       "899     77.705\n",
       "752    146.705\n",
       "1286    72.535\n",
       "707    118.455"
      ]
     },
     "execution_count": 25,
     "metadata": {},
     "output_type": "execute_result"
    }
   ],
   "source": [
    "# actual values\n",
    "\n",
    "y_test[:10]"
   ]
  },
  {
   "cell_type": "code",
   "execution_count": 26,
   "metadata": {
    "colab": {
     "base_uri": "https://localhost:8080/"
    },
    "executionInfo": {
     "elapsed": 945,
     "status": "ok",
     "timestamp": 1607933793120,
     "user": {
      "displayName": "Harpreet Singh Sachdev",
      "photoUrl": "https://lh3.googleusercontent.com/a-/AOh14Gj5NeI_fBn0wsbx5KUdxizOF794sYC3Ve9k_xyEJSPlGp-Bk2ktEV-QYwQiBXINCjbZdBI9C6lsMUpLaCtUMwZSBA2-5F_3v4W-7nEmKrc0dgTcOcSh0sBYYx1e2BbnUT6HZjWY0H_yTnKPiytVWALCqwP5rmJt6h-Dhvg6T6OnKjHU4KcPcnfPnSnFJZhxV7U3OKAZYnD_A2KMwxyi7zVq4D2EdWD2QJO1Wfe0U4_6mefaqJ5bk81MbLA5BiGMVz2c8IL_voa05aGmpLxIXPSLxkjjcsTiMELQ6jwvt8nZFAOpEJDsucSZ7kajpXUKTaj7aAw_Cz_p1BAs70LOPoYeK6k8mO1fp2u2pjcWlguf1CC61uTxoQOmgQxFLqKn_PWgzZ2wkMgFXDSCofn3y4EaopNm1FDQ3iQqHyXhR2m5ZnbsNpCO7wQO7AU2M5Ug9n6Uz6tL2AYEKPW-yF8AOYQs-KWJr_gLnkG1ZeMj-FP3_oKu7iE9pt87WL3DfVRBuDi46WtufqVkFQPJ0plyn2TNwD5sqB8PNL0g8kmI986BU0Hg9SOkMNNKQBeoRNlCI1JYfWuf8G6bqq7qoUQva2kSzor-h6r-yaP-_rJNu__z1PXUgQcBvTY04I54lGpd5bVTddZa1UccLu_MfityDkKTwVr3J6oP6Vkkk0Yq8mmQTqfGA5N8HfYg2oXJjW8rqBrTxtH7uJc5rR2SxHbRrrhBWFVTBvMM9UVjyyukGsmkMUyE_B1QLjqV0QEJuIRG6SNGKA=s64",
      "userId": "08194772631130095241"
     },
     "user_tz": -330
    },
    "id": "5bScKlx5fT9y",
    "outputId": "d2c069d2-94a8-4c68-abc1-0e9c3700ab2b"
   },
   "outputs": [
    {
     "data": {
      "text/plain": [
       "81.43757975540527"
      ]
     },
     "execution_count": 26,
     "metadata": {},
     "output_type": "execute_result"
    }
   ],
   "source": [
    "# Mean squared error\n",
    "\n",
    "mean_squared_error(y_predicted, y_test)"
   ]
  },
  {
   "cell_type": "code",
   "execution_count": 27,
   "metadata": {
    "colab": {
     "base_uri": "https://localhost:8080/",
     "height": 265
    },
    "executionInfo": {
     "elapsed": 1237,
     "status": "ok",
     "timestamp": 1607933793745,
     "user": {
      "displayName": "Harpreet Singh Sachdev",
      "photoUrl": "https://lh3.googleusercontent.com/a-/AOh14Gj5NeI_fBn0wsbx5KUdxizOF794sYC3Ve9k_xyEJSPlGp-Bk2ktEV-QYwQiBXINCjbZdBI9C6lsMUpLaCtUMwZSBA2-5F_3v4W-7nEmKrc0dgTcOcSh0sBYYx1e2BbnUT6HZjWY0H_yTnKPiytVWALCqwP5rmJt6h-Dhvg6T6OnKjHU4KcPcnfPnSnFJZhxV7U3OKAZYnD_A2KMwxyi7zVq4D2EdWD2QJO1Wfe0U4_6mefaqJ5bk81MbLA5BiGMVz2c8IL_voa05aGmpLxIXPSLxkjjcsTiMELQ6jwvt8nZFAOpEJDsucSZ7kajpXUKTaj7aAw_Cz_p1BAs70LOPoYeK6k8mO1fp2u2pjcWlguf1CC61uTxoQOmgQxFLqKn_PWgzZ2wkMgFXDSCofn3y4EaopNm1FDQ3iQqHyXhR2m5ZnbsNpCO7wQO7AU2M5Ug9n6Uz6tL2AYEKPW-yF8AOYQs-KWJr_gLnkG1ZeMj-FP3_oKu7iE9pt87WL3DfVRBuDi46WtufqVkFQPJ0plyn2TNwD5sqB8PNL0g8kmI986BU0Hg9SOkMNNKQBeoRNlCI1JYfWuf8G6bqq7qoUQva2kSzor-h6r-yaP-_rJNu__z1PXUgQcBvTY04I54lGpd5bVTddZa1UccLu_MfityDkKTwVr3J6oP6Vkkk0Yq8mmQTqfGA5N8HfYg2oXJjW8rqBrTxtH7uJc5rR2SxHbRrrhBWFVTBvMM9UVjyyukGsmkMUyE_B1QLjqV0QEJuIRG6SNGKA=s64",
      "userId": "08194772631130095241"
     },
     "user_tz": -330
    },
    "id": "vFMyhB9EgCzX",
    "outputId": "0b743622-a2be-496b-b6d3-1528d0978cad"
   },
   "outputs": [
    {
     "data": {
      "image/png": "[encoded data removed]",
      "text/plain": [
       "<Figure size 432x288 with 1 Axes>"
      ]
     },
     "metadata": {
      "needs_background": "light"
     },
     "output_type": "display_data"
    }
   ],
   "source": [
    "plt.scatter(x_test, y_test, color = 'red')\n",
    "plt.scatter(x_test, y_predicted, color = 'blue')\n",
    "plt.show()"
   ]
  },
  {
   "cell_type": "markdown",
   "metadata": {},
   "source": [
    "## Multicollinearity"
   ]
  },
  {
   "cell_type": "code",
   "execution_count": 28,
   "metadata": {
    "colab": {
     "base_uri": "https://localhost:8080/",
     "height": 198
    },
    "executionInfo": {
     "elapsed": 1026,
     "status": "ok",
     "timestamp": 1607938121073,
     "user": {
      "displayName": "Harpreet Singh Sachdev",
      "photoUrl": "https://lh3.googleusercontent.com/a-/AOh14Gj5NeI_fBn0wsbx5KUdxizOF794sYC3Ve9k_xyEJSPlGp-Bk2ktEV-QYwQiBXINCjbZdBI9C6lsMUpLaCtUMwZSBA2-5F_3v4W-7nEmKrc0dgTcOcSh0sBYYx1e2BbnUT6HZjWY0H_yTnKPiytVWALCqwP5rmJt6h-Dhvg6T6OnKjHU4KcPcnfPnSnFJZhxV7U3OKAZYnD_A2KMwxyi7zVq4D2EdWD2QJO1Wfe0U4_6mefaqJ5bk81MbLA5BiGMVz2c8IL_voa05aGmpLxIXPSLxkjjcsTiMELQ6jwvt8nZFAOpEJDsucSZ7kajpXUKTaj7aAw_Cz_p1BAs70LOPoYeK6k8mO1fp2u2pjcWlguf1CC61uTxoQOmgQxFLqKn_PWgzZ2wkMgFXDSCofn3y4EaopNm1FDQ3iQqHyXhR2m5ZnbsNpCO7wQO7AU2M5Ug9n6Uz6tL2AYEKPW-yF8AOYQs-KWJr_gLnkG1ZeMj-FP3_oKu7iE9pt87WL3DfVRBuDi46WtufqVkFQPJ0plyn2TNwD5sqB8PNL0g8kmI986BU0Hg9SOkMNNKQBeoRNlCI1JYfWuf8G6bqq7qoUQva2kSzor-h6r-yaP-_rJNu__z1PXUgQcBvTY04I54lGpd5bVTddZa1UccLu_MfityDkKTwVr3J6oP6Vkkk0Yq8mmQTqfGA5N8HfYg2oXJjW8rqBrTxtH7uJc5rR2SxHbRrrhBWFVTBvMM9UVjyyukGsmkMUyE_B1QLjqV0QEJuIRG6SNGKA=s64",
      "userId": "08194772631130095241"
     },
     "user_tz": -330
    },
    "id": "wu3VoPGvwFKe",
    "outputId": "959675aa-0a2d-48aa-ade5-9cdde1ac3290"
   },
   "outputs": [
    {
     "data": {
      "text/html": [
       "<div>\n",
       "<style scoped>\n",
       "    .dataframe tbody tr th:only-of-type {\n",
       "        vertical-align: middle;\n",
       "    }\n",
       "\n",
       "    .dataframe tbody tr th {\n",
       "        vertical-align: top;\n",
       "    }\n",
       "\n",
       "    .dataframe thead th {\n",
       "        text-align: right;\n",
       "    }\n",
       "</style>\n",
       "<table border=\"1\" class=\"dataframe\">\n",
       "  <thead>\n",
       "    <tr style=\"text-align: right;\">\n",
       "      <th></th>\n",
       "      <th>ENGINESIZE</th>\n",
       "      <th>FUELCONSUMPTION_COMB.1</th>\n",
       "      <th>CO2EMISSIONS</th>\n",
       "    </tr>\n",
       "  </thead>\n",
       "  <tbody>\n",
       "    <tr>\n",
       "      <td>0</td>\n",
       "      <td>2.0</td>\n",
       "      <td>8.5</td>\n",
       "      <td>196</td>\n",
       "    </tr>\n",
       "    <tr>\n",
       "      <td>1</td>\n",
       "      <td>2.4</td>\n",
       "      <td>9.6</td>\n",
       "      <td>221</td>\n",
       "    </tr>\n",
       "    <tr>\n",
       "      <td>2</td>\n",
       "      <td>1.5</td>\n",
       "      <td>5.9</td>\n",
       "      <td>136</td>\n",
       "    </tr>\n",
       "    <tr>\n",
       "      <td>3</td>\n",
       "      <td>4.0</td>\n",
       "      <td>11.1</td>\n",
       "      <td>255</td>\n",
       "    </tr>\n",
       "    <tr>\n",
       "      <td>4</td>\n",
       "      <td>3.5</td>\n",
       "      <td>10.6</td>\n",
       "      <td>244</td>\n",
       "    </tr>\n",
       "  </tbody>\n",
       "</table>\n",
       "</div>"
      ],
      "text/plain": [
       "   ENGINESIZE  FUELCONSUMPTION_COMB.1  CO2EMISSIONS\n",
       "0         2.0                     8.5           196\n",
       "1         2.4                     9.6           221\n",
       "2         1.5                     5.9           136\n",
       "3         4.0                    11.1           255\n",
       "4         3.5                    10.6           244"
      ]
     },
     "execution_count": 28,
     "metadata": {},
     "output_type": "execute_result"
    }
   ],
   "source": [
    "import pandas as pd \n",
    "datas = pd.read_csv(\"https://d24c4belkzmc2t.cloudfront.net/cdn-uploads/1571309320_CO2-emission.csv\")\n",
    "emission_data = datas[['ENGINESIZE', 'FUELCONSUMPTION_COMB.1', 'CO2EMISSIONS']]\n",
    "emission_data.head()"
   ]
  },
  {
   "cell_type": "code",
   "execution_count": 29,
   "metadata": {
    "colab": {
     "base_uri": "https://localhost:8080/",
     "height": 138
    },
    "executionInfo": {
     "elapsed": 1059,
     "status": "ok",
     "timestamp": 1607938125517,
     "user": {
      "displayName": "Harpreet Singh Sachdev",
      "photoUrl": "https://lh3.googleusercontent.com/a-/AOh14Gj5NeI_fBn0wsbx5KUdxizOF794sYC3Ve9k_xyEJSPlGp-Bk2ktEV-QYwQiBXINCjbZdBI9C6lsMUpLaCtUMwZSBA2-5F_3v4W-7nEmKrc0dgTcOcSh0sBYYx1e2BbnUT6HZjWY0H_yTnKPiytVWALCqwP5rmJt6h-Dhvg6T6OnKjHU4KcPcnfPnSnFJZhxV7U3OKAZYnD_A2KMwxyi7zVq4D2EdWD2QJO1Wfe0U4_6mefaqJ5bk81MbLA5BiGMVz2c8IL_voa05aGmpLxIXPSLxkjjcsTiMELQ6jwvt8nZFAOpEJDsucSZ7kajpXUKTaj7aAw_Cz_p1BAs70LOPoYeK6k8mO1fp2u2pjcWlguf1CC61uTxoQOmgQxFLqKn_PWgzZ2wkMgFXDSCofn3y4EaopNm1FDQ3iQqHyXhR2m5ZnbsNpCO7wQO7AU2M5Ug9n6Uz6tL2AYEKPW-yF8AOYQs-KWJr_gLnkG1ZeMj-FP3_oKu7iE9pt87WL3DfVRBuDi46WtufqVkFQPJ0plyn2TNwD5sqB8PNL0g8kmI986BU0Hg9SOkMNNKQBeoRNlCI1JYfWuf8G6bqq7qoUQva2kSzor-h6r-yaP-_rJNu__z1PXUgQcBvTY04I54lGpd5bVTddZa1UccLu_MfityDkKTwVr3J6oP6Vkkk0Yq8mmQTqfGA5N8HfYg2oXJjW8rqBrTxtH7uJc5rR2SxHbRrrhBWFVTBvMM9UVjyyukGsmkMUyE_B1QLjqV0QEJuIRG6SNGKA=s64",
      "userId": "08194772631130095241"
     },
     "user_tz": -330
    },
    "id": "tJs7Hv3zw3yW",
    "outputId": "99253096-f8d1-4904-b9e0-6f45ac50810c"
   },
   "outputs": [
    {
     "data": {
      "text/html": [
       "<div>\n",
       "<style scoped>\n",
       "    .dataframe tbody tr th:only-of-type {\n",
       "        vertical-align: middle;\n",
       "    }\n",
       "\n",
       "    .dataframe tbody tr th {\n",
       "        vertical-align: top;\n",
       "    }\n",
       "\n",
       "    .dataframe thead th {\n",
       "        text-align: right;\n",
       "    }\n",
       "</style>\n",
       "<table border=\"1\" class=\"dataframe\">\n",
       "  <thead>\n",
       "    <tr style=\"text-align: right;\">\n",
       "      <th></th>\n",
       "      <th>ENGINESIZE</th>\n",
       "      <th>FUELCONSUMPTION_COMB.1</th>\n",
       "      <th>CO2EMISSIONS</th>\n",
       "    </tr>\n",
       "  </thead>\n",
       "  <tbody>\n",
       "    <tr>\n",
       "      <td>ENGINESIZE</td>\n",
       "      <td>1.000000</td>\n",
       "      <td>0.810563</td>\n",
       "      <td>0.871102</td>\n",
       "    </tr>\n",
       "    <tr>\n",
       "      <td>FUELCONSUMPTION_COMB.1</td>\n",
       "      <td>0.810563</td>\n",
       "      <td>1.000000</td>\n",
       "      <td>0.881889</td>\n",
       "    </tr>\n",
       "    <tr>\n",
       "      <td>CO2EMISSIONS</td>\n",
       "      <td>0.871102</td>\n",
       "      <td>0.881889</td>\n",
       "      <td>1.000000</td>\n",
       "    </tr>\n",
       "  </tbody>\n",
       "</table>\n",
       "</div>"
      ],
      "text/plain": [
       "                        ENGINESIZE  FUELCONSUMPTION_COMB.1  CO2EMISSIONS\n",
       "ENGINESIZE                1.000000                0.810563      0.871102\n",
       "FUELCONSUMPTION_COMB.1    0.810563                1.000000      0.881889\n",
       "CO2EMISSIONS              0.871102                0.881889      1.000000"
      ]
     },
     "execution_count": 29,
     "metadata": {},
     "output_type": "execute_result"
    }
   ],
   "source": [
    "emission_data.corr()"
   ]
  },
  {
   "cell_type": "markdown",
   "metadata": {},
   "source": [
    "<font size = 4.5px>\n",
    "There is high correlation between ENGINESIZE and CO2EMISSIONS and CO2EMISSIONS and FUELCONSUMPTION_COMB.1 where CO2EMISSIONS is dependent variables.\n",
    "\n",
    "But also, FUELCONSUMPTION_COMB.1 and ENGINESIZE are also highly correlated as both are independent variables so we can use much.\n",
    "\n",
    "The correlation between FUELCONSUMPTION_COMB.1 and CO2EMISSIONS is 0.88 while ENGINESIZE and CO2EMISSIONS is 0.87 so we will pick independent variable as FUELCONSUMPTION_COMB.1 as it has high correlation with dependent column\n",
    "</font>"
   ]
  },
  {
   "cell_type": "markdown",
   "metadata": {},
   "source": [
    "### Using LabelEncoder for converting string categorical to corresponding numerical values"
   ]
  },
  {
   "cell_type": "code",
   "execution_count": 30,
   "metadata": {
    "executionInfo": {
     "elapsed": 1675,
     "status": "ok",
     "timestamp": 1607933796598,
     "user": {
      "displayName": "Harpreet Singh Sachdev",
      "photoUrl": "https://lh3.googleusercontent.com/a-/AOh14Gj5NeI_fBn0wsbx5KUdxizOF794sYC3Ve9k_xyEJSPlGp-Bk2ktEV-QYwQiBXINCjbZdBI9C6lsMUpLaCtUMwZSBA2-5F_3v4W-7nEmKrc0dgTcOcSh0sBYYx1e2BbnUT6HZjWY0H_yTnKPiytVWALCqwP5rmJt6h-Dhvg6T6OnKjHU4KcPcnfPnSnFJZhxV7U3OKAZYnD_A2KMwxyi7zVq4D2EdWD2QJO1Wfe0U4_6mefaqJ5bk81MbLA5BiGMVz2c8IL_voa05aGmpLxIXPSLxkjjcsTiMELQ6jwvt8nZFAOpEJDsucSZ7kajpXUKTaj7aAw_Cz_p1BAs70LOPoYeK6k8mO1fp2u2pjcWlguf1CC61uTxoQOmgQxFLqKn_PWgzZ2wkMgFXDSCofn3y4EaopNm1FDQ3iQqHyXhR2m5ZnbsNpCO7wQO7AU2M5Ug9n6Uz6tL2AYEKPW-yF8AOYQs-KWJr_gLnkG1ZeMj-FP3_oKu7iE9pt87WL3DfVRBuDi46WtufqVkFQPJ0plyn2TNwD5sqB8PNL0g8kmI986BU0Hg9SOkMNNKQBeoRNlCI1JYfWuf8G6bqq7qoUQva2kSzor-h6r-yaP-_rJNu__z1PXUgQcBvTY04I54lGpd5bVTddZa1UccLu_MfityDkKTwVr3J6oP6Vkkk0Yq8mmQTqfGA5N8HfYg2oXJjW8rqBrTxtH7uJc5rR2SxHbRrrhBWFVTBvMM9UVjyyukGsmkMUyE_B1QLjqV0QEJuIRG6SNGKA=s64",
      "userId": "08194772631130095241"
     },
     "user_tz": -330
    },
    "id": "6dv-CW69h9oQ"
   },
   "outputs": [],
   "source": [
    "from sklearn.preprocessing import LabelEncoder\n",
    "\n",
    "encoder = LabelEncoder()"
   ]
  },
  {
   "cell_type": "code",
   "execution_count": 31,
   "metadata": {
    "colab": {
     "base_uri": "https://localhost:8080/"
    },
    "executionInfo": {
     "elapsed": 1362,
     "status": "ok",
     "timestamp": 1607933796598,
     "user": {
      "displayName": "Harpreet Singh Sachdev",
      "photoUrl": "https://lh3.googleusercontent.com/a-/AOh14Gj5NeI_fBn0wsbx5KUdxizOF794sYC3Ve9k_xyEJSPlGp-Bk2ktEV-QYwQiBXINCjbZdBI9C6lsMUpLaCtUMwZSBA2-5F_3v4W-7nEmKrc0dgTcOcSh0sBYYx1e2BbnUT6HZjWY0H_yTnKPiytVWALCqwP5rmJt6h-Dhvg6T6OnKjHU4KcPcnfPnSnFJZhxV7U3OKAZYnD_A2KMwxyi7zVq4D2EdWD2QJO1Wfe0U4_6mefaqJ5bk81MbLA5BiGMVz2c8IL_voa05aGmpLxIXPSLxkjjcsTiMELQ6jwvt8nZFAOpEJDsucSZ7kajpXUKTaj7aAw_Cz_p1BAs70LOPoYeK6k8mO1fp2u2pjcWlguf1CC61uTxoQOmgQxFLqKn_PWgzZ2wkMgFXDSCofn3y4EaopNm1FDQ3iQqHyXhR2m5ZnbsNpCO7wQO7AU2M5Ug9n6Uz6tL2AYEKPW-yF8AOYQs-KWJr_gLnkG1ZeMj-FP3_oKu7iE9pt87WL3DfVRBuDi46WtufqVkFQPJ0plyn2TNwD5sqB8PNL0g8kmI986BU0Hg9SOkMNNKQBeoRNlCI1JYfWuf8G6bqq7qoUQva2kSzor-h6r-yaP-_rJNu__z1PXUgQcBvTY04I54lGpd5bVTddZa1UccLu_MfityDkKTwVr3J6oP6Vkkk0Yq8mmQTqfGA5N8HfYg2oXJjW8rqBrTxtH7uJc5rR2SxHbRrrhBWFVTBvMM9UVjyyukGsmkMUyE_B1QLjqV0QEJuIRG6SNGKA=s64",
      "userId": "08194772631130095241"
     },
     "user_tz": -330
    },
    "id": "HjIqV_TsiKwU",
    "outputId": "23c9bfa0-f63d-4627-93d0-424a0842c8bd"
   },
   "outputs": [
    {
     "data": {
      "text/plain": [
       "array([3, 2, 1, 0], dtype=int64)"
      ]
     },
     "execution_count": 31,
     "metadata": {},
     "output_type": "execute_result"
    }
   ],
   "source": [
    "data['region_converted'] = encoder.fit_transform(data['Region'])\n",
    "data['region_converted'].unique()"
   ]
  },
  {
   "cell_type": "code",
   "execution_count": 32,
   "metadata": {
    "colab": {
     "base_uri": "https://localhost:8080/",
     "height": 204
    },
    "executionInfo": {
     "elapsed": 1369,
     "status": "ok",
     "timestamp": 1607933798629,
     "user": {
      "displayName": "Harpreet Singh Sachdev",
      "photoUrl": "https://lh3.googleusercontent.com/a-/AOh14Gj5NeI_fBn0wsbx5KUdxizOF794sYC3Ve9k_xyEJSPlGp-Bk2ktEV-QYwQiBXINCjbZdBI9C6lsMUpLaCtUMwZSBA2-5F_3v4W-7nEmKrc0dgTcOcSh0sBYYx1e2BbnUT6HZjWY0H_yTnKPiytVWALCqwP5rmJt6h-Dhvg6T6OnKjHU4KcPcnfPnSnFJZhxV7U3OKAZYnD_A2KMwxyi7zVq4D2EdWD2QJO1Wfe0U4_6mefaqJ5bk81MbLA5BiGMVz2c8IL_voa05aGmpLxIXPSLxkjjcsTiMELQ6jwvt8nZFAOpEJDsucSZ7kajpXUKTaj7aAw_Cz_p1BAs70LOPoYeK6k8mO1fp2u2pjcWlguf1CC61uTxoQOmgQxFLqKn_PWgzZ2wkMgFXDSCofn3y4EaopNm1FDQ3iQqHyXhR2m5ZnbsNpCO7wQO7AU2M5Ug9n6Uz6tL2AYEKPW-yF8AOYQs-KWJr_gLnkG1ZeMj-FP3_oKu7iE9pt87WL3DfVRBuDi46WtufqVkFQPJ0plyn2TNwD5sqB8PNL0g8kmI986BU0Hg9SOkMNNKQBeoRNlCI1JYfWuf8G6bqq7qoUQva2kSzor-h6r-yaP-_rJNu__z1PXUgQcBvTY04I54lGpd5bVTddZa1UccLu_MfityDkKTwVr3J6oP6Vkkk0Yq8mmQTqfGA5N8HfYg2oXJjW8rqBrTxtH7uJc5rR2SxHbRrrhBWFVTBvMM9UVjyyukGsmkMUyE_B1QLjqV0QEJuIRG6SNGKA=s64",
      "userId": "08194772631130095241"
     },
     "user_tz": -330
    },
    "id": "3Ugqodsgoj7W",
    "outputId": "75fc7bd4-0929-4ab7-9abe-9e799a3bf64a"
   },
   "outputs": [
    {
     "data": {
      "text/html": [
       "<div>\n",
       "<style scoped>\n",
       "    .dataframe tbody tr th:only-of-type {\n",
       "        vertical-align: middle;\n",
       "    }\n",
       "\n",
       "    .dataframe tbody tr th {\n",
       "        vertical-align: top;\n",
       "    }\n",
       "\n",
       "    .dataframe thead th {\n",
       "        text-align: right;\n",
       "    }\n",
       "</style>\n",
       "<table border=\"1\" class=\"dataframe\">\n",
       "  <thead>\n",
       "    <tr style=\"text-align: right;\">\n",
       "      <th></th>\n",
       "      <th>Unnamed: 0</th>\n",
       "      <th>Age</th>\n",
       "      <th>Sex</th>\n",
       "      <th>BMI</th>\n",
       "      <th>Children</th>\n",
       "      <th>smoker</th>\n",
       "      <th>Region</th>\n",
       "      <th>Expenses</th>\n",
       "      <th>Gender</th>\n",
       "      <th>smoke</th>\n",
       "      <th>region_converted</th>\n",
       "    </tr>\n",
       "  </thead>\n",
       "  <tbody>\n",
       "    <tr>\n",
       "      <td>0</td>\n",
       "      <td>0</td>\n",
       "      <td>19</td>\n",
       "      <td>female</td>\n",
       "      <td>27.9</td>\n",
       "      <td>0</td>\n",
       "      <td>yes</td>\n",
       "      <td>southwest</td>\n",
       "      <td>88.555</td>\n",
       "      <td>1</td>\n",
       "      <td>1</td>\n",
       "      <td>3</td>\n",
       "    </tr>\n",
       "    <tr>\n",
       "      <td>1</td>\n",
       "      <td>1</td>\n",
       "      <td>18</td>\n",
       "      <td>male</td>\n",
       "      <td>33.8</td>\n",
       "      <td>1</td>\n",
       "      <td>no</td>\n",
       "      <td>southeast</td>\n",
       "      <td>113.410</td>\n",
       "      <td>0</td>\n",
       "      <td>0</td>\n",
       "      <td>2</td>\n",
       "    </tr>\n",
       "    <tr>\n",
       "      <td>2</td>\n",
       "      <td>2</td>\n",
       "      <td>28</td>\n",
       "      <td>male</td>\n",
       "      <td>33.0</td>\n",
       "      <td>3</td>\n",
       "      <td>no</td>\n",
       "      <td>southeast</td>\n",
       "      <td>126.310</td>\n",
       "      <td>0</td>\n",
       "      <td>0</td>\n",
       "      <td>2</td>\n",
       "    </tr>\n",
       "    <tr>\n",
       "      <td>3</td>\n",
       "      <td>3</td>\n",
       "      <td>33</td>\n",
       "      <td>male</td>\n",
       "      <td>22.7</td>\n",
       "      <td>0</td>\n",
       "      <td>no</td>\n",
       "      <td>northwest</td>\n",
       "      <td>86.235</td>\n",
       "      <td>0</td>\n",
       "      <td>0</td>\n",
       "      <td>1</td>\n",
       "    </tr>\n",
       "    <tr>\n",
       "      <td>4</td>\n",
       "      <td>4</td>\n",
       "      <td>32</td>\n",
       "      <td>male</td>\n",
       "      <td>28.9</td>\n",
       "      <td>0</td>\n",
       "      <td>no</td>\n",
       "      <td>northwest</td>\n",
       "      <td>102.715</td>\n",
       "      <td>0</td>\n",
       "      <td>0</td>\n",
       "      <td>1</td>\n",
       "    </tr>\n",
       "  </tbody>\n",
       "</table>\n",
       "</div>"
      ],
      "text/plain": [
       "   Unnamed: 0  Age     Sex   BMI  Children smoker     Region  Expenses  \\\n",
       "0           0   19  female  27.9         0    yes  southwest    88.555   \n",
       "1           1   18    male  33.8         1     no  southeast   113.410   \n",
       "2           2   28    male  33.0         3     no  southeast   126.310   \n",
       "3           3   33    male  22.7         0     no  northwest    86.235   \n",
       "4           4   32    male  28.9         0     no  northwest   102.715   \n",
       "\n",
       "   Gender  smoke  region_converted  \n",
       "0       1      1                 3  \n",
       "1       0      0                 2  \n",
       "2       0      0                 2  \n",
       "3       0      0                 1  \n",
       "4       0      0                 1  "
      ]
     },
     "execution_count": 32,
     "metadata": {},
     "output_type": "execute_result"
    }
   ],
   "source": [
    "data.head()"
   ]
  },
  {
   "cell_type": "code",
   "execution_count": 33,
   "metadata": {
    "colab": {
     "base_uri": "https://localhost:8080/",
     "height": 235
    },
    "executionInfo": {
     "elapsed": 1653,
     "status": "ok",
     "timestamp": 1607933799109,
     "user": {
      "displayName": "Harpreet Singh Sachdev",
      "photoUrl": "https://lh3.googleusercontent.com/a-/AOh14Gj5NeI_fBn0wsbx5KUdxizOF794sYC3Ve9k_xyEJSPlGp-Bk2ktEV-QYwQiBXINCjbZdBI9C6lsMUpLaCtUMwZSBA2-5F_3v4W-7nEmKrc0dgTcOcSh0sBYYx1e2BbnUT6HZjWY0H_yTnKPiytVWALCqwP5rmJt6h-Dhvg6T6OnKjHU4KcPcnfPnSnFJZhxV7U3OKAZYnD_A2KMwxyi7zVq4D2EdWD2QJO1Wfe0U4_6mefaqJ5bk81MbLA5BiGMVz2c8IL_voa05aGmpLxIXPSLxkjjcsTiMELQ6jwvt8nZFAOpEJDsucSZ7kajpXUKTaj7aAw_Cz_p1BAs70LOPoYeK6k8mO1fp2u2pjcWlguf1CC61uTxoQOmgQxFLqKn_PWgzZ2wkMgFXDSCofn3y4EaopNm1FDQ3iQqHyXhR2m5ZnbsNpCO7wQO7AU2M5Ug9n6Uz6tL2AYEKPW-yF8AOYQs-KWJr_gLnkG1ZeMj-FP3_oKu7iE9pt87WL3DfVRBuDi46WtufqVkFQPJ0plyn2TNwD5sqB8PNL0g8kmI986BU0Hg9SOkMNNKQBeoRNlCI1JYfWuf8G6bqq7qoUQva2kSzor-h6r-yaP-_rJNu__z1PXUgQcBvTY04I54lGpd5bVTddZa1UccLu_MfityDkKTwVr3J6oP6Vkkk0Yq8mmQTqfGA5N8HfYg2oXJjW8rqBrTxtH7uJc5rR2SxHbRrrhBWFVTBvMM9UVjyyukGsmkMUyE_B1QLjqV0QEJuIRG6SNGKA=s64",
      "userId": "08194772631130095241"
     },
     "user_tz": -330
    },
    "id": "3oqQ_PT8ipP6",
    "outputId": "a6930eeb-3bad-4da8-b1e2-2bc9b3224b36"
   },
   "outputs": [
    {
     "data": {
      "text/html": [
       "<div>\n",
       "<style scoped>\n",
       "    .dataframe tbody tr th:only-of-type {\n",
       "        vertical-align: middle;\n",
       "    }\n",
       "\n",
       "    .dataframe tbody tr th {\n",
       "        vertical-align: top;\n",
       "    }\n",
       "\n",
       "    .dataframe thead th {\n",
       "        text-align: right;\n",
       "    }\n",
       "</style>\n",
       "<table border=\"1\" class=\"dataframe\">\n",
       "  <thead>\n",
       "    <tr style=\"text-align: right;\">\n",
       "      <th></th>\n",
       "      <th>Unnamed: 0</th>\n",
       "      <th>Age</th>\n",
       "      <th>BMI</th>\n",
       "      <th>Children</th>\n",
       "      <th>Expenses</th>\n",
       "      <th>Gender</th>\n",
       "      <th>smoke</th>\n",
       "      <th>region_converted</th>\n",
       "    </tr>\n",
       "  </thead>\n",
       "  <tbody>\n",
       "    <tr>\n",
       "      <td>Unnamed: 0</td>\n",
       "      <td>1.000000</td>\n",
       "      <td>-0.031467</td>\n",
       "      <td>-0.036144</td>\n",
       "      <td>0.025221</td>\n",
       "      <td>-0.041823</td>\n",
       "      <td>-0.003704</td>\n",
       "      <td>0.005217</td>\n",
       "      <td>-0.001333</td>\n",
       "    </tr>\n",
       "    <tr>\n",
       "      <td>Age</td>\n",
       "      <td>-0.031467</td>\n",
       "      <td>1.000000</td>\n",
       "      <td>0.109341</td>\n",
       "      <td>0.042469</td>\n",
       "      <td>0.505921</td>\n",
       "      <td>0.020856</td>\n",
       "      <td>-0.025019</td>\n",
       "      <td>0.002127</td>\n",
       "    </tr>\n",
       "    <tr>\n",
       "      <td>BMI</td>\n",
       "      <td>-0.036144</td>\n",
       "      <td>0.109341</td>\n",
       "      <td>1.000000</td>\n",
       "      <td>0.012645</td>\n",
       "      <td>0.879601</td>\n",
       "      <td>-0.046380</td>\n",
       "      <td>0.003968</td>\n",
       "      <td>0.157439</td>\n",
       "    </tr>\n",
       "    <tr>\n",
       "      <td>Children</td>\n",
       "      <td>0.025221</td>\n",
       "      <td>0.042469</td>\n",
       "      <td>0.012645</td>\n",
       "      <td>1.000000</td>\n",
       "      <td>0.218761</td>\n",
       "      <td>-0.017163</td>\n",
       "      <td>0.007673</td>\n",
       "      <td>0.016569</td>\n",
       "    </tr>\n",
       "    <tr>\n",
       "      <td>Expenses</td>\n",
       "      <td>-0.041823</td>\n",
       "      <td>0.505921</td>\n",
       "      <td>0.879601</td>\n",
       "      <td>0.218761</td>\n",
       "      <td>1.000000</td>\n",
       "      <td>-0.035771</td>\n",
       "      <td>-0.011772</td>\n",
       "      <td>0.137602</td>\n",
       "    </tr>\n",
       "    <tr>\n",
       "      <td>Gender</td>\n",
       "      <td>-0.003704</td>\n",
       "      <td>0.020856</td>\n",
       "      <td>-0.046380</td>\n",
       "      <td>-0.017163</td>\n",
       "      <td>-0.035771</td>\n",
       "      <td>1.000000</td>\n",
       "      <td>-0.076185</td>\n",
       "      <td>-0.004588</td>\n",
       "    </tr>\n",
       "    <tr>\n",
       "      <td>smoke</td>\n",
       "      <td>0.005217</td>\n",
       "      <td>-0.025019</td>\n",
       "      <td>0.003968</td>\n",
       "      <td>0.007673</td>\n",
       "      <td>-0.011772</td>\n",
       "      <td>-0.076185</td>\n",
       "      <td>1.000000</td>\n",
       "      <td>-0.002181</td>\n",
       "    </tr>\n",
       "    <tr>\n",
       "      <td>region_converted</td>\n",
       "      <td>-0.001333</td>\n",
       "      <td>0.002127</td>\n",
       "      <td>0.157439</td>\n",
       "      <td>0.016569</td>\n",
       "      <td>0.137602</td>\n",
       "      <td>-0.004588</td>\n",
       "      <td>-0.002181</td>\n",
       "      <td>1.000000</td>\n",
       "    </tr>\n",
       "  </tbody>\n",
       "</table>\n",
       "</div>"
      ],
      "text/plain": [
       "                  Unnamed: 0       Age       BMI  Children  Expenses  \\\n",
       "Unnamed: 0          1.000000 -0.031467 -0.036144  0.025221 -0.041823   \n",
       "Age                -0.031467  1.000000  0.109341  0.042469  0.505921   \n",
       "BMI                -0.036144  0.109341  1.000000  0.012645  0.879601   \n",
       "Children            0.025221  0.042469  0.012645  1.000000  0.218761   \n",
       "Expenses           -0.041823  0.505921  0.879601  0.218761  1.000000   \n",
       "Gender             -0.003704  0.020856 -0.046380 -0.017163 -0.035771   \n",
       "smoke               0.005217 -0.025019  0.003968  0.007673 -0.011772   \n",
       "region_converted   -0.001333  0.002127  0.157439  0.016569  0.137602   \n",
       "\n",
       "                    Gender     smoke  region_converted  \n",
       "Unnamed: 0       -0.003704  0.005217         -0.001333  \n",
       "Age               0.020856 -0.025019          0.002127  \n",
       "BMI              -0.046380  0.003968          0.157439  \n",
       "Children         -0.017163  0.007673          0.016569  \n",
       "Expenses         -0.035771 -0.011772          0.137602  \n",
       "Gender            1.000000 -0.076185         -0.004588  \n",
       "smoke            -0.076185  1.000000         -0.002181  \n",
       "region_converted -0.004588 -0.002181          1.000000  "
      ]
     },
     "execution_count": 33,
     "metadata": {},
     "output_type": "execute_result"
    }
   ],
   "source": [
    "data.corr()"
   ]
  },
  {
   "cell_type": "markdown",
   "metadata": {},
   "source": [
    "## Multiple Linear Regression"
   ]
  },
  {
   "cell_type": "code",
   "execution_count": 34,
   "metadata": {
    "executionInfo": {
     "elapsed": 1503,
     "status": "ok",
     "timestamp": 1607933799110,
     "user": {
      "displayName": "Harpreet Singh Sachdev",
      "photoUrl": "https://lh3.googleusercontent.com/a-/AOh14Gj5NeI_fBn0wsbx5KUdxizOF794sYC3Ve9k_xyEJSPlGp-Bk2ktEV-QYwQiBXINCjbZdBI9C6lsMUpLaCtUMwZSBA2-5F_3v4W-7nEmKrc0dgTcOcSh0sBYYx1e2BbnUT6HZjWY0H_yTnKPiytVWALCqwP5rmJt6h-Dhvg6T6OnKjHU4KcPcnfPnSnFJZhxV7U3OKAZYnD_A2KMwxyi7zVq4D2EdWD2QJO1Wfe0U4_6mefaqJ5bk81MbLA5BiGMVz2c8IL_voa05aGmpLxIXPSLxkjjcsTiMELQ6jwvt8nZFAOpEJDsucSZ7kajpXUKTaj7aAw_Cz_p1BAs70LOPoYeK6k8mO1fp2u2pjcWlguf1CC61uTxoQOmgQxFLqKn_PWgzZ2wkMgFXDSCofn3y4EaopNm1FDQ3iQqHyXhR2m5ZnbsNpCO7wQO7AU2M5Ug9n6Uz6tL2AYEKPW-yF8AOYQs-KWJr_gLnkG1ZeMj-FP3_oKu7iE9pt87WL3DfVRBuDi46WtufqVkFQPJ0plyn2TNwD5sqB8PNL0g8kmI986BU0Hg9SOkMNNKQBeoRNlCI1JYfWuf8G6bqq7qoUQva2kSzor-h6r-yaP-_rJNu__z1PXUgQcBvTY04I54lGpd5bVTddZa1UccLu_MfityDkKTwVr3J6oP6Vkkk0Yq8mmQTqfGA5N8HfYg2oXJjW8rqBrTxtH7uJc5rR2SxHbRrrhBWFVTBvMM9UVjyyukGsmkMUyE_B1QLjqV0QEJuIRG6SNGKA=s64",
      "userId": "08194772631130095241"
     },
     "user_tz": -330
    },
    "id": "PbcxPY9mipSb"
   },
   "outputs": [],
   "source": [
    "data['smoker'] = data['smoker'].map({'yes' : 1, 'no' : 0})"
   ]
  },
  {
   "cell_type": "code",
   "execution_count": 35,
   "metadata": {
    "executionInfo": {
     "elapsed": 1294,
     "status": "ok",
     "timestamp": 1607933799111,
     "user": {
      "displayName": "Harpreet Singh Sachdev",
      "photoUrl": "https://lh3.googleusercontent.com/a-/AOh14Gj5NeI_fBn0wsbx5KUdxizOF794sYC3Ve9k_xyEJSPlGp-Bk2ktEV-QYwQiBXINCjbZdBI9C6lsMUpLaCtUMwZSBA2-5F_3v4W-7nEmKrc0dgTcOcSh0sBYYx1e2BbnUT6HZjWY0H_yTnKPiytVWALCqwP5rmJt6h-Dhvg6T6OnKjHU4KcPcnfPnSnFJZhxV7U3OKAZYnD_A2KMwxyi7zVq4D2EdWD2QJO1Wfe0U4_6mefaqJ5bk81MbLA5BiGMVz2c8IL_voa05aGmpLxIXPSLxkjjcsTiMELQ6jwvt8nZFAOpEJDsucSZ7kajpXUKTaj7aAw_Cz_p1BAs70LOPoYeK6k8mO1fp2u2pjcWlguf1CC61uTxoQOmgQxFLqKn_PWgzZ2wkMgFXDSCofn3y4EaopNm1FDQ3iQqHyXhR2m5ZnbsNpCO7wQO7AU2M5Ug9n6Uz6tL2AYEKPW-yF8AOYQs-KWJr_gLnkG1ZeMj-FP3_oKu7iE9pt87WL3DfVRBuDi46WtufqVkFQPJ0plyn2TNwD5sqB8PNL0g8kmI986BU0Hg9SOkMNNKQBeoRNlCI1JYfWuf8G6bqq7qoUQva2kSzor-h6r-yaP-_rJNu__z1PXUgQcBvTY04I54lGpd5bVTddZa1UccLu_MfityDkKTwVr3J6oP6Vkkk0Yq8mmQTqfGA5N8HfYg2oXJjW8rqBrTxtH7uJc5rR2SxHbRrrhBWFVTBvMM9UVjyyukGsmkMUyE_B1QLjqV0QEJuIRG6SNGKA=s64",
      "userId": "08194772631130095241"
     },
     "user_tz": -330
    },
    "id": "pAAqLvQQoj9o"
   },
   "outputs": [],
   "source": [
    "# independent variables\n",
    " \n",
    "x = data[['Age', 'BMI', 'smoker']]\n",
    "y = data[['Expenses']]"
   ]
  },
  {
   "cell_type": "code",
   "execution_count": 36,
   "metadata": {
    "executionInfo": {
     "elapsed": 968,
     "status": "ok",
     "timestamp": 1607933799488,
     "user": {
      "displayName": "Harpreet Singh Sachdev",
      "photoUrl": "https://lh3.googleusercontent.com/a-/AOh14Gj5NeI_fBn0wsbx5KUdxizOF794sYC3Ve9k_xyEJSPlGp-Bk2ktEV-QYwQiBXINCjbZdBI9C6lsMUpLaCtUMwZSBA2-5F_3v4W-7nEmKrc0dgTcOcSh0sBYYx1e2BbnUT6HZjWY0H_yTnKPiytVWALCqwP5rmJt6h-Dhvg6T6OnKjHU4KcPcnfPnSnFJZhxV7U3OKAZYnD_A2KMwxyi7zVq4D2EdWD2QJO1Wfe0U4_6mefaqJ5bk81MbLA5BiGMVz2c8IL_voa05aGmpLxIXPSLxkjjcsTiMELQ6jwvt8nZFAOpEJDsucSZ7kajpXUKTaj7aAw_Cz_p1BAs70LOPoYeK6k8mO1fp2u2pjcWlguf1CC61uTxoQOmgQxFLqKn_PWgzZ2wkMgFXDSCofn3y4EaopNm1FDQ3iQqHyXhR2m5ZnbsNpCO7wQO7AU2M5Ug9n6Uz6tL2AYEKPW-yF8AOYQs-KWJr_gLnkG1ZeMj-FP3_oKu7iE9pt87WL3DfVRBuDi46WtufqVkFQPJ0plyn2TNwD5sqB8PNL0g8kmI986BU0Hg9SOkMNNKQBeoRNlCI1JYfWuf8G6bqq7qoUQva2kSzor-h6r-yaP-_rJNu__z1PXUgQcBvTY04I54lGpd5bVTddZa1UccLu_MfityDkKTwVr3J6oP6Vkkk0Yq8mmQTqfGA5N8HfYg2oXJjW8rqBrTxtH7uJc5rR2SxHbRrrhBWFVTBvMM9UVjyyukGsmkMUyE_B1QLjqV0QEJuIRG6SNGKA=s64",
      "userId": "08194772631130095241"
     },
     "user_tz": -330
    },
    "id": "FzUKbfjxoj_v"
   },
   "outputs": [],
   "source": [
    "from sklearn.model_selection import train_test_split\n",
    "\n",
    "x_train, x_test, y_train, y_test = train_test_split(x, y, test_size = 0.20)"
   ]
  },
  {
   "cell_type": "code",
   "execution_count": 37,
   "metadata": {
    "colab": {
     "base_uri": "https://localhost:8080/"
    },
    "executionInfo": {
     "elapsed": 782,
     "status": "ok",
     "timestamp": 1607933799489,
     "user": {
      "displayName": "Harpreet Singh Sachdev",
      "photoUrl": "https://lh3.googleusercontent.com/a-/AOh14Gj5NeI_fBn0wsbx5KUdxizOF794sYC3Ve9k_xyEJSPlGp-Bk2ktEV-QYwQiBXINCjbZdBI9C6lsMUpLaCtUMwZSBA2-5F_3v4W-7nEmKrc0dgTcOcSh0sBYYx1e2BbnUT6HZjWY0H_yTnKPiytVWALCqwP5rmJt6h-Dhvg6T6OnKjHU4KcPcnfPnSnFJZhxV7U3OKAZYnD_A2KMwxyi7zVq4D2EdWD2QJO1Wfe0U4_6mefaqJ5bk81MbLA5BiGMVz2c8IL_voa05aGmpLxIXPSLxkjjcsTiMELQ6jwvt8nZFAOpEJDsucSZ7kajpXUKTaj7aAw_Cz_p1BAs70LOPoYeK6k8mO1fp2u2pjcWlguf1CC61uTxoQOmgQxFLqKn_PWgzZ2wkMgFXDSCofn3y4EaopNm1FDQ3iQqHyXhR2m5ZnbsNpCO7wQO7AU2M5Ug9n6Uz6tL2AYEKPW-yF8AOYQs-KWJr_gLnkG1ZeMj-FP3_oKu7iE9pt87WL3DfVRBuDi46WtufqVkFQPJ0plyn2TNwD5sqB8PNL0g8kmI986BU0Hg9SOkMNNKQBeoRNlCI1JYfWuf8G6bqq7qoUQva2kSzor-h6r-yaP-_rJNu__z1PXUgQcBvTY04I54lGpd5bVTddZa1UccLu_MfityDkKTwVr3J6oP6Vkkk0Yq8mmQTqfGA5N8HfYg2oXJjW8rqBrTxtH7uJc5rR2SxHbRrrhBWFVTBvMM9UVjyyukGsmkMUyE_B1QLjqV0QEJuIRG6SNGKA=s64",
      "userId": "08194772631130095241"
     },
     "user_tz": -330
    },
    "id": "sVtIvb5NokCC",
    "outputId": "f9b7c11f-f3d4-4c07-ca8a-69ef605b91f9"
   },
   "outputs": [
    {
     "data": {
      "text/plain": [
       "LinearRegression()"
      ]
     },
     "execution_count": 37,
     "metadata": {},
     "output_type": "execute_result"
    }
   ],
   "source": [
    "from sklearn.linear_model import LinearRegression\n",
    "\n",
    "model = LinearRegression()\n",
    "model.fit(x_train, y_train)"
   ]
  },
  {
   "cell_type": "code",
   "execution_count": 38,
   "metadata": {
    "colab": {
     "base_uri": "https://localhost:8080/"
    },
    "executionInfo": {
     "elapsed": 1122,
     "status": "ok",
     "timestamp": 1607933800000,
     "user": {
      "displayName": "Harpreet Singh Sachdev",
      "photoUrl": "https://lh3.googleusercontent.com/a-/AOh14Gj5NeI_fBn0wsbx5KUdxizOF794sYC3Ve9k_xyEJSPlGp-Bk2ktEV-QYwQiBXINCjbZdBI9C6lsMUpLaCtUMwZSBA2-5F_3v4W-7nEmKrc0dgTcOcSh0sBYYx1e2BbnUT6HZjWY0H_yTnKPiytVWALCqwP5rmJt6h-Dhvg6T6OnKjHU4KcPcnfPnSnFJZhxV7U3OKAZYnD_A2KMwxyi7zVq4D2EdWD2QJO1Wfe0U4_6mefaqJ5bk81MbLA5BiGMVz2c8IL_voa05aGmpLxIXPSLxkjjcsTiMELQ6jwvt8nZFAOpEJDsucSZ7kajpXUKTaj7aAw_Cz_p1BAs70LOPoYeK6k8mO1fp2u2pjcWlguf1CC61uTxoQOmgQxFLqKn_PWgzZ2wkMgFXDSCofn3y4EaopNm1FDQ3iQqHyXhR2m5ZnbsNpCO7wQO7AU2M5Ug9n6Uz6tL2AYEKPW-yF8AOYQs-KWJr_gLnkG1ZeMj-FP3_oKu7iE9pt87WL3DfVRBuDi46WtufqVkFQPJ0plyn2TNwD5sqB8PNL0g8kmI986BU0Hg9SOkMNNKQBeoRNlCI1JYfWuf8G6bqq7qoUQva2kSzor-h6r-yaP-_rJNu__z1PXUgQcBvTY04I54lGpd5bVTddZa1UccLu_MfityDkKTwVr3J6oP6Vkkk0Yq8mmQTqfGA5N8HfYg2oXJjW8rqBrTxtH7uJc5rR2SxHbRrrhBWFVTBvMM9UVjyyukGsmkMUyE_B1QLjqV0QEJuIRG6SNGKA=s64",
      "userId": "08194772631130095241"
     },
     "user_tz": -330
    },
    "id": "kKjfssIEokD_",
    "outputId": "e77ab7c9-5d17-4399-b470-ef9cce314e84"
   },
   "outputs": [
    {
     "data": {
      "text/plain": [
       "0.9452669060834502"
      ]
     },
     "execution_count": 38,
     "metadata": {},
     "output_type": "execute_result"
    }
   ],
   "source": [
    "model.score(x_train, y_train)"
   ]
  },
  {
   "cell_type": "code",
   "execution_count": 39,
   "metadata": {
    "colab": {
     "base_uri": "https://localhost:8080/"
    },
    "executionInfo": {
     "elapsed": 694,
     "status": "ok",
     "timestamp": 1607933801859,
     "user": {
      "displayName": "Harpreet Singh Sachdev",
      "photoUrl": "https://lh3.googleusercontent.com/a-/AOh14Gj5NeI_fBn0wsbx5KUdxizOF794sYC3Ve9k_xyEJSPlGp-Bk2ktEV-QYwQiBXINCjbZdBI9C6lsMUpLaCtUMwZSBA2-5F_3v4W-7nEmKrc0dgTcOcSh0sBYYx1e2BbnUT6HZjWY0H_yTnKPiytVWALCqwP5rmJt6h-Dhvg6T6OnKjHU4KcPcnfPnSnFJZhxV7U3OKAZYnD_A2KMwxyi7zVq4D2EdWD2QJO1Wfe0U4_6mefaqJ5bk81MbLA5BiGMVz2c8IL_voa05aGmpLxIXPSLxkjjcsTiMELQ6jwvt8nZFAOpEJDsucSZ7kajpXUKTaj7aAw_Cz_p1BAs70LOPoYeK6k8mO1fp2u2pjcWlguf1CC61uTxoQOmgQxFLqKn_PWgzZ2wkMgFXDSCofn3y4EaopNm1FDQ3iQqHyXhR2m5ZnbsNpCO7wQO7AU2M5Ug9n6Uz6tL2AYEKPW-yF8AOYQs-KWJr_gLnkG1ZeMj-FP3_oKu7iE9pt87WL3DfVRBuDi46WtufqVkFQPJ0plyn2TNwD5sqB8PNL0g8kmI986BU0Hg9SOkMNNKQBeoRNlCI1JYfWuf8G6bqq7qoUQva2kSzor-h6r-yaP-_rJNu__z1PXUgQcBvTY04I54lGpd5bVTddZa1UccLu_MfityDkKTwVr3J6oP6Vkkk0Yq8mmQTqfGA5N8HfYg2oXJjW8rqBrTxtH7uJc5rR2SxHbRrrhBWFVTBvMM9UVjyyukGsmkMUyE_B1QLjqV0QEJuIRG6SNGKA=s64",
      "userId": "08194772631130095241"
     },
     "user_tz": -330
    },
    "id": "_Gvb2vzejXFw",
    "outputId": "144166dc-648c-4f84-abc6-b171bff5b0f4"
   },
   "outputs": [
    {
     "data": {
      "text/plain": [
       "(array([[ 0.59538504,  2.77273904, -0.32362447]]), array([7.28754761]))"
      ]
     },
     "execution_count": 39,
     "metadata": {},
     "output_type": "execute_result"
    }
   ],
   "source": [
    "model.coef_, model.intercept_"
   ]
  },
  {
   "cell_type": "code",
   "execution_count": 40,
   "metadata": {
    "colab": {
     "base_uri": "https://localhost:8080/"
    },
    "executionInfo": {
     "elapsed": 729,
     "status": "ok",
     "timestamp": 1607933802492,
     "user": {
      "displayName": "Harpreet Singh Sachdev",
      "photoUrl": "https://lh3.googleusercontent.com/a-/AOh14Gj5NeI_fBn0wsbx5KUdxizOF794sYC3Ve9k_xyEJSPlGp-Bk2ktEV-QYwQiBXINCjbZdBI9C6lsMUpLaCtUMwZSBA2-5F_3v4W-7nEmKrc0dgTcOcSh0sBYYx1e2BbnUT6HZjWY0H_yTnKPiytVWALCqwP5rmJt6h-Dhvg6T6OnKjHU4KcPcnfPnSnFJZhxV7U3OKAZYnD_A2KMwxyi7zVq4D2EdWD2QJO1Wfe0U4_6mefaqJ5bk81MbLA5BiGMVz2c8IL_voa05aGmpLxIXPSLxkjjcsTiMELQ6jwvt8nZFAOpEJDsucSZ7kajpXUKTaj7aAw_Cz_p1BAs70LOPoYeK6k8mO1fp2u2pjcWlguf1CC61uTxoQOmgQxFLqKn_PWgzZ2wkMgFXDSCofn3y4EaopNm1FDQ3iQqHyXhR2m5ZnbsNpCO7wQO7AU2M5Ug9n6Uz6tL2AYEKPW-yF8AOYQs-KWJr_gLnkG1ZeMj-FP3_oKu7iE9pt87WL3DfVRBuDi46WtufqVkFQPJ0plyn2TNwD5sqB8PNL0g8kmI986BU0Hg9SOkMNNKQBeoRNlCI1JYfWuf8G6bqq7qoUQva2kSzor-h6r-yaP-_rJNu__z1PXUgQcBvTY04I54lGpd5bVTddZa1UccLu_MfityDkKTwVr3J6oP6Vkkk0Yq8mmQTqfGA5N8HfYg2oXJjW8rqBrTxtH7uJc5rR2SxHbRrrhBWFVTBvMM9UVjyyukGsmkMUyE_B1QLjqV0QEJuIRG6SNGKA=s64",
      "userId": "08194772631130095241"
     },
     "user_tz": -330
    },
    "id": "Bh3CY9zQjcg4",
    "outputId": "bf9962bb-015b-4015-eaac-8df989394c20"
   },
   "outputs": [
    {
     "data": {
      "text/plain": [
       "23.01932068121376"
      ]
     },
     "execution_count": 40,
     "metadata": {},
     "output_type": "execute_result"
    }
   ],
   "source": [
    "y_predicted = model.predict(x_test)\n",
    "mean_squared_error(y_predicted, y_test)"
   ]
  },
  {
   "cell_type": "markdown",
   "metadata": {},
   "source": [
    "<font size = 4px> \n",
    "Here,<br>\n",
    " \n",
    "equation of best fit line is y = m1 * x1 + m2 * x2 + m3 * x3 + c <br>\n",
    "where,<br><br>\n",
    "\n",
    "m1 = (standard deviation of y / standard deviation of x1) * correlation coefficient between y and x1 <br>\n",
    "m2 = (standard deviation of y / standard deviation of x2) * correlation coefficient between y and x2 <br>\n",
    "m3 = (standard deviation of y / standard deviation of x3) * correlation coefficient between y and x3 <br>\n",
    "\n",
    "</font>"
   ]
  },
  {
   "cell_type": "markdown",
   "metadata": {},
   "source": [
    "## Note:- When making predictions make sure to pass 2D values inside predict function otherwise error is thrown.\n",
    "\n",
    "#### E.g. model.predict([[24]]) for simple linear regression and model.predict([[24, 45, 80]]) for multiple linear regression"
   ]
  }
 ],
 "metadata": {
  "colab": {
   "collapsed_sections": [],
   "name": "Online Session - Regression.ipynb",
   "provenance": [],
   "toc_visible": true
  },
  "kernelspec": {
   "display_name": "Python 3",
   "language": "python",
   "name": "python3"
  },
  "language_info": {
   "codemirror_mode": {
    "name": "ipython",
    "version": 3
   },
   "file_extension": ".py",
   "mimetype": "text/x-python",
   "name": "python",
   "nbconvert_exporter": "python",
   "pygments_lexer": "ipython3",
   "version": "3.8.1"
  }
 },
 "nbformat": 4,
 "nbformat_minor": 1
}
